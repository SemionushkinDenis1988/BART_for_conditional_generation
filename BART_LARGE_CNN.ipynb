{
  "nbformat": 4,
  "nbformat_minor": 0,
  "metadata": {
    "kernelspec": {
      "display_name": "Python 3",
      "language": "python",
      "name": "python3"
    },
    "language_info": {
      "codemirror_mode": {
        "name": "ipython",
        "version": 3
      },
      "file_extension": ".py",
      "mimetype": "text/x-python",
      "name": "python",
      "nbconvert_exporter": "python",
      "pygments_lexer": "ipython3",
      "version": "3.6.6"
    },
    "colab": {
      "name": "BART_LARGE_CNN.ipynb",
      "provenance": [],
      "collapsed_sections": [
        "pR_0x1uYaEfV"
      ],
      "toc_visible": true
    },
    "accelerator": "GPU",
    "widgets": {
      "application/vnd.jupyter.widget-state+json": {
        "903d49630b95416caf6ce619b1119c48": {
          "model_module": "@jupyter-widgets/controls",
          "model_name": "HBoxModel",
          "state": {
            "_view_name": "HBoxView",
            "_dom_classes": [],
            "_model_name": "HBoxModel",
            "_view_module": "@jupyter-widgets/controls",
            "_model_module_version": "1.5.0",
            "_view_count": null,
            "_view_module_version": "1.5.0",
            "box_style": "",
            "layout": "IPY_MODEL_ea41396ec67f46f78a828ed3c7e0c341",
            "_model_module": "@jupyter-widgets/controls",
            "children": [
              "IPY_MODEL_7a0115fa0dc1440fa4f035734dda8151",
              "IPY_MODEL_288790158757474696bc479231026653"
            ]
          }
        },
        "ea41396ec67f46f78a828ed3c7e0c341": {
          "model_module": "@jupyter-widgets/base",
          "model_name": "LayoutModel",
          "state": {
            "_view_name": "LayoutView",
            "grid_template_rows": null,
            "right": null,
            "justify_content": null,
            "_view_module": "@jupyter-widgets/base",
            "overflow": null,
            "_model_module_version": "1.2.0",
            "_view_count": null,
            "flex_flow": null,
            "width": null,
            "min_width": null,
            "border": null,
            "align_items": null,
            "bottom": null,
            "_model_module": "@jupyter-widgets/base",
            "top": null,
            "grid_column": null,
            "overflow_y": null,
            "overflow_x": null,
            "grid_auto_flow": null,
            "grid_area": null,
            "grid_template_columns": null,
            "flex": null,
            "_model_name": "LayoutModel",
            "justify_items": null,
            "grid_row": null,
            "max_height": null,
            "align_content": null,
            "visibility": null,
            "align_self": null,
            "height": null,
            "min_height": null,
            "padding": null,
            "grid_auto_rows": null,
            "grid_gap": null,
            "max_width": null,
            "order": null,
            "_view_module_version": "1.2.0",
            "grid_template_areas": null,
            "object_position": null,
            "object_fit": null,
            "grid_auto_columns": null,
            "margin": null,
            "display": null,
            "left": null
          }
        },
        "7a0115fa0dc1440fa4f035734dda8151": {
          "model_module": "@jupyter-widgets/controls",
          "model_name": "FloatProgressModel",
          "state": {
            "_view_name": "ProgressView",
            "style": "IPY_MODEL_13b3d19924f34ce1b4b0fb2755938f6d",
            "_dom_classes": [],
            "description": "Downloading: 100%",
            "_model_name": "FloatProgressModel",
            "bar_style": "success",
            "max": 898823,
            "_view_module": "@jupyter-widgets/controls",
            "_model_module_version": "1.5.0",
            "value": 898823,
            "_view_count": null,
            "_view_module_version": "1.5.0",
            "orientation": "horizontal",
            "min": 0,
            "description_tooltip": null,
            "_model_module": "@jupyter-widgets/controls",
            "layout": "IPY_MODEL_2ec85a2079f145ae9c0f054cdd2c66da"
          }
        },
        "288790158757474696bc479231026653": {
          "model_module": "@jupyter-widgets/controls",
          "model_name": "HTMLModel",
          "state": {
            "_view_name": "HTMLView",
            "style": "IPY_MODEL_adf2049dab7842d6a07be0a27fda87b8",
            "_dom_classes": [],
            "description": "",
            "_model_name": "HTMLModel",
            "placeholder": "​",
            "_view_module": "@jupyter-widgets/controls",
            "_model_module_version": "1.5.0",
            "value": " 899k/899k [00:15&lt;00:00, 59.0kB/s]",
            "_view_count": null,
            "_view_module_version": "1.5.0",
            "description_tooltip": null,
            "_model_module": "@jupyter-widgets/controls",
            "layout": "IPY_MODEL_fa90b0d9d65942a4a10b446998fcdcab"
          }
        },
        "13b3d19924f34ce1b4b0fb2755938f6d": {
          "model_module": "@jupyter-widgets/controls",
          "model_name": "ProgressStyleModel",
          "state": {
            "_view_name": "StyleView",
            "_model_name": "ProgressStyleModel",
            "description_width": "initial",
            "_view_module": "@jupyter-widgets/base",
            "_model_module_version": "1.5.0",
            "_view_count": null,
            "_view_module_version": "1.2.0",
            "bar_color": null,
            "_model_module": "@jupyter-widgets/controls"
          }
        },
        "2ec85a2079f145ae9c0f054cdd2c66da": {
          "model_module": "@jupyter-widgets/base",
          "model_name": "LayoutModel",
          "state": {
            "_view_name": "LayoutView",
            "grid_template_rows": null,
            "right": null,
            "justify_content": null,
            "_view_module": "@jupyter-widgets/base",
            "overflow": null,
            "_model_module_version": "1.2.0",
            "_view_count": null,
            "flex_flow": null,
            "width": null,
            "min_width": null,
            "border": null,
            "align_items": null,
            "bottom": null,
            "_model_module": "@jupyter-widgets/base",
            "top": null,
            "grid_column": null,
            "overflow_y": null,
            "overflow_x": null,
            "grid_auto_flow": null,
            "grid_area": null,
            "grid_template_columns": null,
            "flex": null,
            "_model_name": "LayoutModel",
            "justify_items": null,
            "grid_row": null,
            "max_height": null,
            "align_content": null,
            "visibility": null,
            "align_self": null,
            "height": null,
            "min_height": null,
            "padding": null,
            "grid_auto_rows": null,
            "grid_gap": null,
            "max_width": null,
            "order": null,
            "_view_module_version": "1.2.0",
            "grid_template_areas": null,
            "object_position": null,
            "object_fit": null,
            "grid_auto_columns": null,
            "margin": null,
            "display": null,
            "left": null
          }
        },
        "adf2049dab7842d6a07be0a27fda87b8": {
          "model_module": "@jupyter-widgets/controls",
          "model_name": "DescriptionStyleModel",
          "state": {
            "_view_name": "StyleView",
            "_model_name": "DescriptionStyleModel",
            "description_width": "",
            "_view_module": "@jupyter-widgets/base",
            "_model_module_version": "1.5.0",
            "_view_count": null,
            "_view_module_version": "1.2.0",
            "_model_module": "@jupyter-widgets/controls"
          }
        },
        "fa90b0d9d65942a4a10b446998fcdcab": {
          "model_module": "@jupyter-widgets/base",
          "model_name": "LayoutModel",
          "state": {
            "_view_name": "LayoutView",
            "grid_template_rows": null,
            "right": null,
            "justify_content": null,
            "_view_module": "@jupyter-widgets/base",
            "overflow": null,
            "_model_module_version": "1.2.0",
            "_view_count": null,
            "flex_flow": null,
            "width": null,
            "min_width": null,
            "border": null,
            "align_items": null,
            "bottom": null,
            "_model_module": "@jupyter-widgets/base",
            "top": null,
            "grid_column": null,
            "overflow_y": null,
            "overflow_x": null,
            "grid_auto_flow": null,
            "grid_area": null,
            "grid_template_columns": null,
            "flex": null,
            "_model_name": "LayoutModel",
            "justify_items": null,
            "grid_row": null,
            "max_height": null,
            "align_content": null,
            "visibility": null,
            "align_self": null,
            "height": null,
            "min_height": null,
            "padding": null,
            "grid_auto_rows": null,
            "grid_gap": null,
            "max_width": null,
            "order": null,
            "_view_module_version": "1.2.0",
            "grid_template_areas": null,
            "object_position": null,
            "object_fit": null,
            "grid_auto_columns": null,
            "margin": null,
            "display": null,
            "left": null
          }
        },
        "aa33e5cf915348a4bbe26ef9cfae6a8f": {
          "model_module": "@jupyter-widgets/controls",
          "model_name": "HBoxModel",
          "state": {
            "_view_name": "HBoxView",
            "_dom_classes": [],
            "_model_name": "HBoxModel",
            "_view_module": "@jupyter-widgets/controls",
            "_model_module_version": "1.5.0",
            "_view_count": null,
            "_view_module_version": "1.5.0",
            "box_style": "",
            "layout": "IPY_MODEL_c9f7e3d59d084db1bc6d9428bdba3db4",
            "_model_module": "@jupyter-widgets/controls",
            "children": [
              "IPY_MODEL_cc91e348756b434fb3fb24f49faec675",
              "IPY_MODEL_25bb626415874dc3bf8ac4bcf5edb1a7"
            ]
          }
        },
        "c9f7e3d59d084db1bc6d9428bdba3db4": {
          "model_module": "@jupyter-widgets/base",
          "model_name": "LayoutModel",
          "state": {
            "_view_name": "LayoutView",
            "grid_template_rows": null,
            "right": null,
            "justify_content": null,
            "_view_module": "@jupyter-widgets/base",
            "overflow": null,
            "_model_module_version": "1.2.0",
            "_view_count": null,
            "flex_flow": null,
            "width": null,
            "min_width": null,
            "border": null,
            "align_items": null,
            "bottom": null,
            "_model_module": "@jupyter-widgets/base",
            "top": null,
            "grid_column": null,
            "overflow_y": null,
            "overflow_x": null,
            "grid_auto_flow": null,
            "grid_area": null,
            "grid_template_columns": null,
            "flex": null,
            "_model_name": "LayoutModel",
            "justify_items": null,
            "grid_row": null,
            "max_height": null,
            "align_content": null,
            "visibility": null,
            "align_self": null,
            "height": null,
            "min_height": null,
            "padding": null,
            "grid_auto_rows": null,
            "grid_gap": null,
            "max_width": null,
            "order": null,
            "_view_module_version": "1.2.0",
            "grid_template_areas": null,
            "object_position": null,
            "object_fit": null,
            "grid_auto_columns": null,
            "margin": null,
            "display": null,
            "left": null
          }
        },
        "cc91e348756b434fb3fb24f49faec675": {
          "model_module": "@jupyter-widgets/controls",
          "model_name": "FloatProgressModel",
          "state": {
            "_view_name": "ProgressView",
            "style": "IPY_MODEL_789ac252ba8d47339e3ae3af73a68d18",
            "_dom_classes": [],
            "description": "Downloading: 100%",
            "_model_name": "FloatProgressModel",
            "bar_style": "success",
            "max": 456318,
            "_view_module": "@jupyter-widgets/controls",
            "_model_module_version": "1.5.0",
            "value": 456318,
            "_view_count": null,
            "_view_module_version": "1.5.0",
            "orientation": "horizontal",
            "min": 0,
            "description_tooltip": null,
            "_model_module": "@jupyter-widgets/controls",
            "layout": "IPY_MODEL_286113b750bf4b679e0996c127fd1b9c"
          }
        },
        "25bb626415874dc3bf8ac4bcf5edb1a7": {
          "model_module": "@jupyter-widgets/controls",
          "model_name": "HTMLModel",
          "state": {
            "_view_name": "HTMLView",
            "style": "IPY_MODEL_604659357ccb4dfd990d496ed9246e38",
            "_dom_classes": [],
            "description": "",
            "_model_name": "HTMLModel",
            "placeholder": "​",
            "_view_module": "@jupyter-widgets/controls",
            "_model_module_version": "1.5.0",
            "value": " 456k/456k [00:00&lt;00:00, 2.52MB/s]",
            "_view_count": null,
            "_view_module_version": "1.5.0",
            "description_tooltip": null,
            "_model_module": "@jupyter-widgets/controls",
            "layout": "IPY_MODEL_505e208fe8054ab8839a85714244174d"
          }
        },
        "789ac252ba8d47339e3ae3af73a68d18": {
          "model_module": "@jupyter-widgets/controls",
          "model_name": "ProgressStyleModel",
          "state": {
            "_view_name": "StyleView",
            "_model_name": "ProgressStyleModel",
            "description_width": "initial",
            "_view_module": "@jupyter-widgets/base",
            "_model_module_version": "1.5.0",
            "_view_count": null,
            "_view_module_version": "1.2.0",
            "bar_color": null,
            "_model_module": "@jupyter-widgets/controls"
          }
        },
        "286113b750bf4b679e0996c127fd1b9c": {
          "model_module": "@jupyter-widgets/base",
          "model_name": "LayoutModel",
          "state": {
            "_view_name": "LayoutView",
            "grid_template_rows": null,
            "right": null,
            "justify_content": null,
            "_view_module": "@jupyter-widgets/base",
            "overflow": null,
            "_model_module_version": "1.2.0",
            "_view_count": null,
            "flex_flow": null,
            "width": null,
            "min_width": null,
            "border": null,
            "align_items": null,
            "bottom": null,
            "_model_module": "@jupyter-widgets/base",
            "top": null,
            "grid_column": null,
            "overflow_y": null,
            "overflow_x": null,
            "grid_auto_flow": null,
            "grid_area": null,
            "grid_template_columns": null,
            "flex": null,
            "_model_name": "LayoutModel",
            "justify_items": null,
            "grid_row": null,
            "max_height": null,
            "align_content": null,
            "visibility": null,
            "align_self": null,
            "height": null,
            "min_height": null,
            "padding": null,
            "grid_auto_rows": null,
            "grid_gap": null,
            "max_width": null,
            "order": null,
            "_view_module_version": "1.2.0",
            "grid_template_areas": null,
            "object_position": null,
            "object_fit": null,
            "grid_auto_columns": null,
            "margin": null,
            "display": null,
            "left": null
          }
        },
        "604659357ccb4dfd990d496ed9246e38": {
          "model_module": "@jupyter-widgets/controls",
          "model_name": "DescriptionStyleModel",
          "state": {
            "_view_name": "StyleView",
            "_model_name": "DescriptionStyleModel",
            "description_width": "",
            "_view_module": "@jupyter-widgets/base",
            "_model_module_version": "1.5.0",
            "_view_count": null,
            "_view_module_version": "1.2.0",
            "_model_module": "@jupyter-widgets/controls"
          }
        },
        "505e208fe8054ab8839a85714244174d": {
          "model_module": "@jupyter-widgets/base",
          "model_name": "LayoutModel",
          "state": {
            "_view_name": "LayoutView",
            "grid_template_rows": null,
            "right": null,
            "justify_content": null,
            "_view_module": "@jupyter-widgets/base",
            "overflow": null,
            "_model_module_version": "1.2.0",
            "_view_count": null,
            "flex_flow": null,
            "width": null,
            "min_width": null,
            "border": null,
            "align_items": null,
            "bottom": null,
            "_model_module": "@jupyter-widgets/base",
            "top": null,
            "grid_column": null,
            "overflow_y": null,
            "overflow_x": null,
            "grid_auto_flow": null,
            "grid_area": null,
            "grid_template_columns": null,
            "flex": null,
            "_model_name": "LayoutModel",
            "justify_items": null,
            "grid_row": null,
            "max_height": null,
            "align_content": null,
            "visibility": null,
            "align_self": null,
            "height": null,
            "min_height": null,
            "padding": null,
            "grid_auto_rows": null,
            "grid_gap": null,
            "max_width": null,
            "order": null,
            "_view_module_version": "1.2.0",
            "grid_template_areas": null,
            "object_position": null,
            "object_fit": null,
            "grid_auto_columns": null,
            "margin": null,
            "display": null,
            "left": null
          }
        },
        "91afc0bfd33a4e98ac9208bfc788b9fd": {
          "model_module": "@jupyter-widgets/controls",
          "model_name": "HBoxModel",
          "state": {
            "_view_name": "HBoxView",
            "_dom_classes": [],
            "_model_name": "HBoxModel",
            "_view_module": "@jupyter-widgets/controls",
            "_model_module_version": "1.5.0",
            "_view_count": null,
            "_view_module_version": "1.5.0",
            "box_style": "",
            "layout": "IPY_MODEL_8a9001640c96484aa82fc2b1a33de873",
            "_model_module": "@jupyter-widgets/controls",
            "children": [
              "IPY_MODEL_fe580080da9a4cf2833b23f635d7ec52",
              "IPY_MODEL_aab2a093574346348fec2138e323ab75"
            ]
          }
        },
        "8a9001640c96484aa82fc2b1a33de873": {
          "model_module": "@jupyter-widgets/base",
          "model_name": "LayoutModel",
          "state": {
            "_view_name": "LayoutView",
            "grid_template_rows": null,
            "right": null,
            "justify_content": null,
            "_view_module": "@jupyter-widgets/base",
            "overflow": null,
            "_model_module_version": "1.2.0",
            "_view_count": null,
            "flex_flow": null,
            "width": null,
            "min_width": null,
            "border": null,
            "align_items": null,
            "bottom": null,
            "_model_module": "@jupyter-widgets/base",
            "top": null,
            "grid_column": null,
            "overflow_y": null,
            "overflow_x": null,
            "grid_auto_flow": null,
            "grid_area": null,
            "grid_template_columns": null,
            "flex": null,
            "_model_name": "LayoutModel",
            "justify_items": null,
            "grid_row": null,
            "max_height": null,
            "align_content": null,
            "visibility": null,
            "align_self": null,
            "height": null,
            "min_height": null,
            "padding": null,
            "grid_auto_rows": null,
            "grid_gap": null,
            "max_width": null,
            "order": null,
            "_view_module_version": "1.2.0",
            "grid_template_areas": null,
            "object_position": null,
            "object_fit": null,
            "grid_auto_columns": null,
            "margin": null,
            "display": null,
            "left": null
          }
        },
        "fe580080da9a4cf2833b23f635d7ec52": {
          "model_module": "@jupyter-widgets/controls",
          "model_name": "FloatProgressModel",
          "state": {
            "_view_name": "ProgressView",
            "style": "IPY_MODEL_a248ce3747cf4576814b0143c85d5cd5",
            "_dom_classes": [],
            "description": "Downloading: 100%",
            "_model_name": "FloatProgressModel",
            "bar_style": "success",
            "max": 1300,
            "_view_module": "@jupyter-widgets/controls",
            "_model_module_version": "1.5.0",
            "value": 1300,
            "_view_count": null,
            "_view_module_version": "1.5.0",
            "orientation": "horizontal",
            "min": 0,
            "description_tooltip": null,
            "_model_module": "@jupyter-widgets/controls",
            "layout": "IPY_MODEL_f7b33bd3fb964294b5207b67037a8656"
          }
        },
        "aab2a093574346348fec2138e323ab75": {
          "model_module": "@jupyter-widgets/controls",
          "model_name": "HTMLModel",
          "state": {
            "_view_name": "HTMLView",
            "style": "IPY_MODEL_9eb75917afb54ddf8083c66b10e26447",
            "_dom_classes": [],
            "description": "",
            "_model_name": "HTMLModel",
            "placeholder": "​",
            "_view_module": "@jupyter-widgets/controls",
            "_model_module_version": "1.5.0",
            "value": " 1.30k/1.30k [00:22&lt;00:00, 58.9B/s]",
            "_view_count": null,
            "_view_module_version": "1.5.0",
            "description_tooltip": null,
            "_model_module": "@jupyter-widgets/controls",
            "layout": "IPY_MODEL_0d7590642bc4492b89f75a226d956301"
          }
        },
        "a248ce3747cf4576814b0143c85d5cd5": {
          "model_module": "@jupyter-widgets/controls",
          "model_name": "ProgressStyleModel",
          "state": {
            "_view_name": "StyleView",
            "_model_name": "ProgressStyleModel",
            "description_width": "initial",
            "_view_module": "@jupyter-widgets/base",
            "_model_module_version": "1.5.0",
            "_view_count": null,
            "_view_module_version": "1.2.0",
            "bar_color": null,
            "_model_module": "@jupyter-widgets/controls"
          }
        },
        "f7b33bd3fb964294b5207b67037a8656": {
          "model_module": "@jupyter-widgets/base",
          "model_name": "LayoutModel",
          "state": {
            "_view_name": "LayoutView",
            "grid_template_rows": null,
            "right": null,
            "justify_content": null,
            "_view_module": "@jupyter-widgets/base",
            "overflow": null,
            "_model_module_version": "1.2.0",
            "_view_count": null,
            "flex_flow": null,
            "width": null,
            "min_width": null,
            "border": null,
            "align_items": null,
            "bottom": null,
            "_model_module": "@jupyter-widgets/base",
            "top": null,
            "grid_column": null,
            "overflow_y": null,
            "overflow_x": null,
            "grid_auto_flow": null,
            "grid_area": null,
            "grid_template_columns": null,
            "flex": null,
            "_model_name": "LayoutModel",
            "justify_items": null,
            "grid_row": null,
            "max_height": null,
            "align_content": null,
            "visibility": null,
            "align_self": null,
            "height": null,
            "min_height": null,
            "padding": null,
            "grid_auto_rows": null,
            "grid_gap": null,
            "max_width": null,
            "order": null,
            "_view_module_version": "1.2.0",
            "grid_template_areas": null,
            "object_position": null,
            "object_fit": null,
            "grid_auto_columns": null,
            "margin": null,
            "display": null,
            "left": null
          }
        },
        "9eb75917afb54ddf8083c66b10e26447": {
          "model_module": "@jupyter-widgets/controls",
          "model_name": "DescriptionStyleModel",
          "state": {
            "_view_name": "StyleView",
            "_model_name": "DescriptionStyleModel",
            "description_width": "",
            "_view_module": "@jupyter-widgets/base",
            "_model_module_version": "1.5.0",
            "_view_count": null,
            "_view_module_version": "1.2.0",
            "_model_module": "@jupyter-widgets/controls"
          }
        },
        "0d7590642bc4492b89f75a226d956301": {
          "model_module": "@jupyter-widgets/base",
          "model_name": "LayoutModel",
          "state": {
            "_view_name": "LayoutView",
            "grid_template_rows": null,
            "right": null,
            "justify_content": null,
            "_view_module": "@jupyter-widgets/base",
            "overflow": null,
            "_model_module_version": "1.2.0",
            "_view_count": null,
            "flex_flow": null,
            "width": null,
            "min_width": null,
            "border": null,
            "align_items": null,
            "bottom": null,
            "_model_module": "@jupyter-widgets/base",
            "top": null,
            "grid_column": null,
            "overflow_y": null,
            "overflow_x": null,
            "grid_auto_flow": null,
            "grid_area": null,
            "grid_template_columns": null,
            "flex": null,
            "_model_name": "LayoutModel",
            "justify_items": null,
            "grid_row": null,
            "max_height": null,
            "align_content": null,
            "visibility": null,
            "align_self": null,
            "height": null,
            "min_height": null,
            "padding": null,
            "grid_auto_rows": null,
            "grid_gap": null,
            "max_width": null,
            "order": null,
            "_view_module_version": "1.2.0",
            "grid_template_areas": null,
            "object_position": null,
            "object_fit": null,
            "grid_auto_columns": null,
            "margin": null,
            "display": null,
            "left": null
          }
        },
        "ef083ca0fc4a4b5c8e11e18a06dde080": {
          "model_module": "@jupyter-widgets/controls",
          "model_name": "HBoxModel",
          "state": {
            "_view_name": "HBoxView",
            "_dom_classes": [],
            "_model_name": "HBoxModel",
            "_view_module": "@jupyter-widgets/controls",
            "_model_module_version": "1.5.0",
            "_view_count": null,
            "_view_module_version": "1.5.0",
            "box_style": "",
            "layout": "IPY_MODEL_017eaf0baaab4a8caf1337c3baf71fc7",
            "_model_module": "@jupyter-widgets/controls",
            "children": [
              "IPY_MODEL_0988c1b846cc4e329a2d6ac3cfbf74f2",
              "IPY_MODEL_5ee76cd118ee4711b3c2637a5619949c"
            ]
          }
        },
        "017eaf0baaab4a8caf1337c3baf71fc7": {
          "model_module": "@jupyter-widgets/base",
          "model_name": "LayoutModel",
          "state": {
            "_view_name": "LayoutView",
            "grid_template_rows": null,
            "right": null,
            "justify_content": null,
            "_view_module": "@jupyter-widgets/base",
            "overflow": null,
            "_model_module_version": "1.2.0",
            "_view_count": null,
            "flex_flow": null,
            "width": null,
            "min_width": null,
            "border": null,
            "align_items": null,
            "bottom": null,
            "_model_module": "@jupyter-widgets/base",
            "top": null,
            "grid_column": null,
            "overflow_y": null,
            "overflow_x": null,
            "grid_auto_flow": null,
            "grid_area": null,
            "grid_template_columns": null,
            "flex": null,
            "_model_name": "LayoutModel",
            "justify_items": null,
            "grid_row": null,
            "max_height": null,
            "align_content": null,
            "visibility": null,
            "align_self": null,
            "height": null,
            "min_height": null,
            "padding": null,
            "grid_auto_rows": null,
            "grid_gap": null,
            "max_width": null,
            "order": null,
            "_view_module_version": "1.2.0",
            "grid_template_areas": null,
            "object_position": null,
            "object_fit": null,
            "grid_auto_columns": null,
            "margin": null,
            "display": null,
            "left": null
          }
        },
        "0988c1b846cc4e329a2d6ac3cfbf74f2": {
          "model_module": "@jupyter-widgets/controls",
          "model_name": "FloatProgressModel",
          "state": {
            "_view_name": "ProgressView",
            "style": "IPY_MODEL_887a673ab9b54a538f8345f98944aee8",
            "_dom_classes": [],
            "description": "Downloading: 100%",
            "_model_name": "FloatProgressModel",
            "bar_style": "success",
            "max": 1625270765,
            "_view_module": "@jupyter-widgets/controls",
            "_model_module_version": "1.5.0",
            "value": 1625270765,
            "_view_count": null,
            "_view_module_version": "1.5.0",
            "orientation": "horizontal",
            "min": 0,
            "description_tooltip": null,
            "_model_module": "@jupyter-widgets/controls",
            "layout": "IPY_MODEL_c0af6543d366445f95c28d948783c77e"
          }
        },
        "5ee76cd118ee4711b3c2637a5619949c": {
          "model_module": "@jupyter-widgets/controls",
          "model_name": "HTMLModel",
          "state": {
            "_view_name": "HTMLView",
            "style": "IPY_MODEL_b98be61d5e924ef9aa6df48dac0a10e5",
            "_dom_classes": [],
            "description": "",
            "_model_name": "HTMLModel",
            "placeholder": "​",
            "_view_module": "@jupyter-widgets/controls",
            "_model_module_version": "1.5.0",
            "value": " 1.63G/1.63G [00:21&lt;00:00, 76.6MB/s]",
            "_view_count": null,
            "_view_module_version": "1.5.0",
            "description_tooltip": null,
            "_model_module": "@jupyter-widgets/controls",
            "layout": "IPY_MODEL_3716783dc56b489b96bc877bdfc220b8"
          }
        },
        "887a673ab9b54a538f8345f98944aee8": {
          "model_module": "@jupyter-widgets/controls",
          "model_name": "ProgressStyleModel",
          "state": {
            "_view_name": "StyleView",
            "_model_name": "ProgressStyleModel",
            "description_width": "initial",
            "_view_module": "@jupyter-widgets/base",
            "_model_module_version": "1.5.0",
            "_view_count": null,
            "_view_module_version": "1.2.0",
            "bar_color": null,
            "_model_module": "@jupyter-widgets/controls"
          }
        },
        "c0af6543d366445f95c28d948783c77e": {
          "model_module": "@jupyter-widgets/base",
          "model_name": "LayoutModel",
          "state": {
            "_view_name": "LayoutView",
            "grid_template_rows": null,
            "right": null,
            "justify_content": null,
            "_view_module": "@jupyter-widgets/base",
            "overflow": null,
            "_model_module_version": "1.2.0",
            "_view_count": null,
            "flex_flow": null,
            "width": null,
            "min_width": null,
            "border": null,
            "align_items": null,
            "bottom": null,
            "_model_module": "@jupyter-widgets/base",
            "top": null,
            "grid_column": null,
            "overflow_y": null,
            "overflow_x": null,
            "grid_auto_flow": null,
            "grid_area": null,
            "grid_template_columns": null,
            "flex": null,
            "_model_name": "LayoutModel",
            "justify_items": null,
            "grid_row": null,
            "max_height": null,
            "align_content": null,
            "visibility": null,
            "align_self": null,
            "height": null,
            "min_height": null,
            "padding": null,
            "grid_auto_rows": null,
            "grid_gap": null,
            "max_width": null,
            "order": null,
            "_view_module_version": "1.2.0",
            "grid_template_areas": null,
            "object_position": null,
            "object_fit": null,
            "grid_auto_columns": null,
            "margin": null,
            "display": null,
            "left": null
          }
        },
        "b98be61d5e924ef9aa6df48dac0a10e5": {
          "model_module": "@jupyter-widgets/controls",
          "model_name": "DescriptionStyleModel",
          "state": {
            "_view_name": "StyleView",
            "_model_name": "DescriptionStyleModel",
            "description_width": "",
            "_view_module": "@jupyter-widgets/base",
            "_model_module_version": "1.5.0",
            "_view_count": null,
            "_view_module_version": "1.2.0",
            "_model_module": "@jupyter-widgets/controls"
          }
        },
        "3716783dc56b489b96bc877bdfc220b8": {
          "model_module": "@jupyter-widgets/base",
          "model_name": "LayoutModel",
          "state": {
            "_view_name": "LayoutView",
            "grid_template_rows": null,
            "right": null,
            "justify_content": null,
            "_view_module": "@jupyter-widgets/base",
            "overflow": null,
            "_model_module_version": "1.2.0",
            "_view_count": null,
            "flex_flow": null,
            "width": null,
            "min_width": null,
            "border": null,
            "align_items": null,
            "bottom": null,
            "_model_module": "@jupyter-widgets/base",
            "top": null,
            "grid_column": null,
            "overflow_y": null,
            "overflow_x": null,
            "grid_auto_flow": null,
            "grid_area": null,
            "grid_template_columns": null,
            "flex": null,
            "_model_name": "LayoutModel",
            "justify_items": null,
            "grid_row": null,
            "max_height": null,
            "align_content": null,
            "visibility": null,
            "align_self": null,
            "height": null,
            "min_height": null,
            "padding": null,
            "grid_auto_rows": null,
            "grid_gap": null,
            "max_width": null,
            "order": null,
            "_view_module_version": "1.2.0",
            "grid_template_areas": null,
            "object_position": null,
            "object_fit": null,
            "grid_auto_columns": null,
            "margin": null,
            "display": null,
            "left": null
          }
        }
      }
    }
  },
  "cells": [
    {
      "cell_type": "markdown",
      "metadata": {
        "id": "2wNP57sNaEdh",
        "colab_type": "text"
      },
      "source": [
        "# Генерация заголовков научных статей"
      ]
    },
    {
      "cell_type": "code",
      "metadata": {
        "id": "gIJ9G3kM3NhJ",
        "colab_type": "code",
        "outputId": "60efeaf3-5a27-47ee-abc9-3a2ae3b14895",
        "colab": {
          "base_uri": "https://localhost:8080/",
          "height": 34
        }
      },
      "source": [
        "import torch\n",
        "torch.cuda.get_device_name()"
      ],
      "execution_count": 1,
      "outputs": [
        {
          "output_type": "execute_result",
          "data": {
            "text/plain": [
              "'Tesla P100-PCIE-16GB'"
            ]
          },
          "metadata": {
            "tags": []
          },
          "execution_count": 1
        }
      ]
    },
    {
      "cell_type": "code",
      "metadata": {
        "id": "yaVucm9K8dFY",
        "colab_type": "code",
        "outputId": "fb057d59-ec79-4e93-848a-bc815000c080",
        "colab": {
          "base_uri": "https://localhost:8080/",
          "height": 122
        }
      },
      "source": [
        "from google.colab import drive\n",
        "drive.mount('/content/drive')"
      ],
      "execution_count": 2,
      "outputs": [
        {
          "output_type": "stream",
          "text": [
            "Go to this URL in a browser: https://accounts.google.com/o/oauth2/auth?client_id=947318989803-6bn6qk8qdgf4n4g3pfee6491hc0brc4i.apps.googleusercontent.com&redirect_uri=urn%3aietf%3awg%3aoauth%3a2.0%3aoob&response_type=code&scope=email%20https%3a%2f%2fwww.googleapis.com%2fauth%2fdocs.test%20https%3a%2f%2fwww.googleapis.com%2fauth%2fdrive%20https%3a%2f%2fwww.googleapis.com%2fauth%2fdrive.photos.readonly%20https%3a%2f%2fwww.googleapis.com%2fauth%2fpeopleapi.readonly\n",
            "\n",
            "Enter your authorization code:\n",
            "··········\n",
            "Mounted at /content/drive\n"
          ],
          "name": "stdout"
        }
      ]
    },
    {
      "cell_type": "markdown",
      "metadata": {
        "id": "ThQ1dVpIaEdj",
        "colab_type": "text"
      },
      "source": [
        "Источник: https://github.com/bentrevett/pytorch-seq2seq"
      ]
    },
    {
      "cell_type": "markdown",
      "metadata": {
        "id": "N3SFSEgkaEdk",
        "colab_type": "text"
      },
      "source": [
        "## Import packages"
      ]
    },
    {
      "cell_type": "code",
      "metadata": {
        "trusted": true,
        "id": "lVRrD-fzaEdl",
        "colab_type": "code",
        "outputId": "835c0b88-4ed0-4b9e-cba2-2cbeb4f46ef6",
        "colab": {
          "base_uri": "https://localhost:8080/",
          "height": 663
        }
      },
      "source": [
        "!pip install -q pyicu\n",
        "!pip install -q pycld2\n",
        "!pip install -q polyglot\n",
        "!pip install transformers"
      ],
      "execution_count": 3,
      "outputs": [
        {
          "output_type": "stream",
          "text": [
            "\u001b[?25l\r\u001b[K     |█▌                              | 10kB 30.9MB/s eta 0:00:01\r\u001b[K     |███                             | 20kB 2.2MB/s eta 0:00:01\r\u001b[K     |████▍                           | 30kB 2.8MB/s eta 0:00:01\r\u001b[K     |█████▉                          | 40kB 3.2MB/s eta 0:00:01\r\u001b[K     |███████▎                        | 51kB 2.6MB/s eta 0:00:01\r\u001b[K     |████████▊                       | 61kB 2.9MB/s eta 0:00:01\r\u001b[K     |██████████▏                     | 71kB 3.1MB/s eta 0:00:01\r\u001b[K     |███████████▋                    | 81kB 3.5MB/s eta 0:00:01\r\u001b[K     |█████████████                   | 92kB 3.7MB/s eta 0:00:01\r\u001b[K     |██████████████▌                 | 102kB 3.5MB/s eta 0:00:01\r\u001b[K     |████████████████                | 112kB 3.5MB/s eta 0:00:01\r\u001b[K     |█████████████████▍              | 122kB 3.5MB/s eta 0:00:01\r\u001b[K     |██████████████████▉             | 133kB 3.5MB/s eta 0:00:01\r\u001b[K     |████████████████████▍           | 143kB 3.5MB/s eta 0:00:01\r\u001b[K     |█████████████████████▉          | 153kB 3.5MB/s eta 0:00:01\r\u001b[K     |███████████████████████▎        | 163kB 3.5MB/s eta 0:00:01\r\u001b[K     |████████████████████████▊       | 174kB 3.5MB/s eta 0:00:01\r\u001b[K     |██████████████████████████▏     | 184kB 3.5MB/s eta 0:00:01\r\u001b[K     |███████████████████████████▋    | 194kB 3.5MB/s eta 0:00:01\r\u001b[K     |█████████████████████████████   | 204kB 3.5MB/s eta 0:00:01\r\u001b[K     |██████████████████████████████▌ | 215kB 3.5MB/s eta 0:00:01\r\u001b[K     |████████████████████████████████| 225kB 3.5MB/s eta 0:00:01\r\u001b[K     |████████████████████████████████| 235kB 3.5MB/s \n",
            "\u001b[?25h  Building wheel for pyicu (setup.py) ... \u001b[?25l\u001b[?25hdone\n",
            "\u001b[K     |████████████████████████████████| 41.4MB 73kB/s \n",
            "\u001b[?25h  Building wheel for pycld2 (setup.py) ... \u001b[?25l\u001b[?25hdone\n",
            "\u001b[K     |████████████████████████████████| 133kB 3.2MB/s \n",
            "\u001b[?25h  Building wheel for polyglot (setup.py) ... \u001b[?25l\u001b[?25hdone\n",
            "Collecting transformers\n",
            "\u001b[?25l  Downloading https://files.pythonhosted.org/packages/12/b5/ac41e3e95205ebf53439e4dd087c58e9fd371fd8e3724f2b9b4cdb8282e5/transformers-2.10.0-py3-none-any.whl (660kB)\n",
            "\u001b[K     |████████████████████████████████| 665kB 3.4MB/s \n",
            "\u001b[?25hRequirement already satisfied: regex!=2019.12.17 in /usr/local/lib/python3.6/dist-packages (from transformers) (2019.12.20)\n",
            "Requirement already satisfied: tqdm>=4.27 in /usr/local/lib/python3.6/dist-packages (from transformers) (4.41.1)\n",
            "Requirement already satisfied: numpy in /usr/local/lib/python3.6/dist-packages (from transformers) (1.18.4)\n",
            "Collecting sentencepiece\n",
            "\u001b[?25l  Downloading https://files.pythonhosted.org/packages/d4/a4/d0a884c4300004a78cca907a6ff9a5e9fe4f090f5d95ab341c53d28cbc58/sentencepiece-0.1.91-cp36-cp36m-manylinux1_x86_64.whl (1.1MB)\n",
            "\u001b[K     |████████████████████████████████| 1.1MB 53.5MB/s \n",
            "\u001b[?25hRequirement already satisfied: dataclasses; python_version < \"3.7\" in /usr/local/lib/python3.6/dist-packages (from transformers) (0.7)\n",
            "Collecting tokenizers==0.7.0\n",
            "\u001b[?25l  Downloading https://files.pythonhosted.org/packages/14/e5/a26eb4716523808bb0a799fcfdceb6ebf77a18169d9591b2f46a9adb87d9/tokenizers-0.7.0-cp36-cp36m-manylinux1_x86_64.whl (3.8MB)\n",
            "\u001b[K     |████████████████████████████████| 3.8MB 48.4MB/s \n",
            "\u001b[?25hCollecting sacremoses\n",
            "\u001b[?25l  Downloading https://files.pythonhosted.org/packages/7d/34/09d19aff26edcc8eb2a01bed8e98f13a1537005d31e95233fd48216eed10/sacremoses-0.0.43.tar.gz (883kB)\n",
            "\u001b[K     |████████████████████████████████| 890kB 61.6MB/s \n",
            "\u001b[?25hRequirement already satisfied: requests in /usr/local/lib/python3.6/dist-packages (from transformers) (2.23.0)\n",
            "Requirement already satisfied: filelock in /usr/local/lib/python3.6/dist-packages (from transformers) (3.0.12)\n",
            "Requirement already satisfied: six in /usr/local/lib/python3.6/dist-packages (from sacremoses->transformers) (1.12.0)\n",
            "Requirement already satisfied: click in /usr/local/lib/python3.6/dist-packages (from sacremoses->transformers) (7.1.2)\n",
            "Requirement already satisfied: joblib in /usr/local/lib/python3.6/dist-packages (from sacremoses->transformers) (0.15.1)\n",
            "Requirement already satisfied: idna<3,>=2.5 in /usr/local/lib/python3.6/dist-packages (from requests->transformers) (2.9)\n",
            "Requirement already satisfied: chardet<4,>=3.0.2 in /usr/local/lib/python3.6/dist-packages (from requests->transformers) (3.0.4)\n",
            "Requirement already satisfied: certifi>=2017.4.17 in /usr/local/lib/python3.6/dist-packages (from requests->transformers) (2020.4.5.1)\n",
            "Requirement already satisfied: urllib3!=1.25.0,!=1.25.1,<1.26,>=1.21.1 in /usr/local/lib/python3.6/dist-packages (from requests->transformers) (1.24.3)\n",
            "Building wheels for collected packages: sacremoses\n",
            "  Building wheel for sacremoses (setup.py) ... \u001b[?25l\u001b[?25hdone\n",
            "  Created wheel for sacremoses: filename=sacremoses-0.0.43-cp36-none-any.whl size=893260 sha256=cfb3e7dab912dfc426d6698697352bb383e533ff8b27a23b34eee6793b4dd059\n",
            "  Stored in directory: /root/.cache/pip/wheels/29/3c/fd/7ce5c3f0666dab31a50123635e6fb5e19ceb42ce38d4e58f45\n",
            "Successfully built sacremoses\n",
            "Installing collected packages: sentencepiece, tokenizers, sacremoses, transformers\n",
            "Successfully installed sacremoses-0.0.43 sentencepiece-0.1.91 tokenizers-0.7.0 transformers-2.10.0\n"
          ],
          "name": "stdout"
        }
      ]
    },
    {
      "cell_type": "code",
      "metadata": {
        "trusted": true,
        "id": "_5axUoAyaEdp",
        "colab_type": "code",
        "outputId": "34876889-f07d-403b-82e1-90b733c49313",
        "colab": {
          "base_uri": "https://localhost:8080/",
          "height": 51
        }
      },
      "source": [
        "from transformers import BartTokenizer, BartForConditionalGeneration, AdamW\n",
        "\n",
        "import pandas as pd\n",
        "import numpy as np\n",
        "import re\n",
        "import string\n",
        "import collections\n",
        "\n",
        "import torch\n",
        "import torch.nn as nn\n",
        "import torch.optim as optim\n",
        "import torch.nn.functional as F\n",
        "from torchtext.data import Field, NestedField, BucketIterator\n",
        "from torchtext import data, vocab\n",
        "\n",
        "import matplotlib.pyplot as plt\n",
        "import matplotlib.ticker as ticker\n",
        "from matplotlib.pyplot import figure\n",
        "\n",
        "import spacy\n",
        "from polyglot.detect import Detector\n",
        "\n",
        "import seaborn as sns\n",
        "from tqdm import tqdm\n",
        "import matplotlib.cm as cm\n",
        "\n",
        "tqdm.pandas()\n",
        "\n",
        "import plotly.express as px\n",
        "import plotly.graph_objects as go\n",
        "import plotly.figure_factory as ff\n",
        "from plotly.subplots import make_subplots\n",
        "\n",
        "import random\n",
        "import math\n",
        "import time\n",
        "\n",
        "import os\n",
        "os.environ['CUDA_LAUNCH_BLOCKING'] = \"1\""
      ],
      "execution_count": 4,
      "outputs": [
        {
          "output_type": "stream",
          "text": [
            "/usr/local/lib/python3.6/dist-packages/statsmodels/tools/_testing.py:19: FutureWarning: pandas.util.testing is deprecated. Use the functions in the public API at pandas.testing instead.\n",
            "  import pandas.util.testing as tm\n"
          ],
          "name": "stderr"
        }
      ]
    },
    {
      "cell_type": "code",
      "metadata": {
        "trusted": true,
        "id": "P_j5CjjsaEdr",
        "colab_type": "code",
        "colab": {}
      },
      "source": [
        "SEED = 1234\n",
        "\n",
        "random.seed(SEED)\n",
        "np.random.seed(SEED)\n",
        "torch.manual_seed(SEED)\n",
        "torch.cuda.manual_seed(SEED)\n",
        "torch.backends.cudnn.deterministic = True"
      ],
      "execution_count": 0,
      "outputs": []
    },
    {
      "cell_type": "markdown",
      "metadata": {
        "id": "7KPi2YcaAlcH",
        "colab_type": "text"
      },
      "source": [
        "## Prepare Data\n"
      ]
    },
    {
      "cell_type": "code",
      "metadata": {
        "trusted": true,
        "id": "1WMTfBw_aEdt",
        "colab_type": "code",
        "outputId": "82fade4e-8969-49e9-cd71-2982d3bc70fc",
        "colab": {
          "base_uri": "https://localhost:8080/",
          "height": 204
        }
      },
      "source": [
        "# let's train model on a part of train.csv to speed up computations\n",
        "\n",
        "#train_df = pd.read_csv('/content/drive/My Drive/train.csv').head(30001)\n",
        "#train_df.to_csv('/content/drive/My Drive/train_small.csv', index=False)\n",
        "\n",
        "train_df = pd.read_csv('/content/drive/My Drive/train.csv')\n",
        "train_df.head()"
      ],
      "execution_count": 6,
      "outputs": [
        {
          "output_type": "execute_result",
          "data": {
            "text/html": [
              "<div>\n",
              "<style scoped>\n",
              "    .dataframe tbody tr th:only-of-type {\n",
              "        vertical-align: middle;\n",
              "    }\n",
              "\n",
              "    .dataframe tbody tr th {\n",
              "        vertical-align: top;\n",
              "    }\n",
              "\n",
              "    .dataframe thead th {\n",
              "        text-align: right;\n",
              "    }\n",
              "</style>\n",
              "<table border=\"1\" class=\"dataframe\">\n",
              "  <thead>\n",
              "    <tr style=\"text-align: right;\">\n",
              "      <th></th>\n",
              "      <th>abstract</th>\n",
              "      <th>title</th>\n",
              "    </tr>\n",
              "  </thead>\n",
              "  <tbody>\n",
              "    <tr>\n",
              "      <th>0</th>\n",
              "      <td>we consider the problem of utility maximizatio...</td>\n",
              "      <td>on optimal investment with processes of long o...</td>\n",
              "    </tr>\n",
              "    <tr>\n",
              "      <th>1</th>\n",
              "      <td>in this paper we provide an explicit formula f...</td>\n",
              "      <td>boolean complexes for ferrers graphs</td>\n",
              "    </tr>\n",
              "    <tr>\n",
              "      <th>2</th>\n",
              "      <td>kinesin-5, also known as eg5 in vertebrates is...</td>\n",
              "      <td>relative velocity of sliding of microtubules b...</td>\n",
              "    </tr>\n",
              "    <tr>\n",
              "      <th>3</th>\n",
              "      <td>we discuss the transition paths in a coupled b...</td>\n",
              "      <td>bifurcation of transition paths induced by cou...</td>\n",
              "    </tr>\n",
              "    <tr>\n",
              "      <th>4</th>\n",
              "      <td>two types of room temperature detectors of ter...</td>\n",
              "      <td>all-electric detectors of the polarization sta...</td>\n",
              "    </tr>\n",
              "  </tbody>\n",
              "</table>\n",
              "</div>"
            ],
            "text/plain": [
              "                                            abstract                                              title\n",
              "0  we consider the problem of utility maximizatio...  on optimal investment with processes of long o...\n",
              "1  in this paper we provide an explicit formula f...               boolean complexes for ferrers graphs\n",
              "2  kinesin-5, also known as eg5 in vertebrates is...  relative velocity of sliding of microtubules b...\n",
              "3  we discuss the transition paths in a coupled b...  bifurcation of transition paths induced by cou...\n",
              "4  two types of room temperature detectors of ter...  all-electric detectors of the polarization sta..."
            ]
          },
          "metadata": {
            "tags": []
          },
          "execution_count": 6
        }
      ]
    },
    {
      "cell_type": "markdown",
      "metadata": {
        "id": "uZFS3ak_r_ok",
        "colab_type": "text"
      },
      "source": [
        "## Word lengths\n",
        "\n"
      ]
    },
    {
      "cell_type": "code",
      "metadata": {
        "id": "8ArNx-Hu3LxG",
        "colab_type": "code",
        "colab": {}
      },
      "source": [
        "pattern = r\"\\S+\"\n",
        "\n",
        "splited_abstracts = [re.findall(pattern, abstract) for abstract in train_df['abstract']]\n",
        "splited_titles = [re.findall(pattern, title) for title in train_df['title']]"
      ],
      "execution_count": 0,
      "outputs": []
    },
    {
      "cell_type": "code",
      "metadata": {
        "id": "0T4qIUSAsHhm",
        "colab_type": "code",
        "colab": {}
      },
      "source": [
        "def count_word_lens(splited_sequences):\n",
        "  lens = []\n",
        "  for seq in splited_sequences:\n",
        "    for token in seq:\n",
        "      lens.append(len(token))\n",
        "  return lens\n",
        "\n",
        "all_abstract_words_lens = count_word_lens(splited_abstracts)\n",
        "all_title_words_lens = count_word_lens(splited_titles)"
      ],
      "execution_count": 0,
      "outputs": []
    },
    {
      "cell_type": "code",
      "metadata": {
        "id": "8FjJHNOotfWW",
        "colab_type": "code",
        "outputId": "cbde991b-58d4-40f0-8dc3-1fdd3b5d1004",
        "colab": {
          "base_uri": "https://localhost:8080/",
          "height": 444
        }
      },
      "source": [
        "plt.style.use('dark_background')\n",
        "\n",
        "figure(num=None, figsize=(14, 6), dpi=80, edgecolor='k')\n",
        "\n",
        "plt.subplot(1, 2, 1)\n",
        "plt.axvline(x=np.mean(all_abstract_words_lens), color='red', linestyle='-')\n",
        "plt.hist(all_abstract_words_lens, bins=50, alpha=0.5,\n",
        "            histtype='stepfilled',\n",
        "            edgecolor='none')\n",
        "plt.title(\"Abstract\")\n",
        "plt.ylabel('quantity')\n",
        "plt.xlabel('length')\n",
        "\n",
        "min_ylim, max_ylim = plt.ylim()\n",
        "plt.text(np.mean(all_abstract_words_lens)*1.1, max_ylim*0.9, 'Mean: {:.2f}'.format(np.mean(all_abstract_words_lens)));\n",
        "\n",
        "plt.subplot(1, 2, 2)\n",
        "plt.axvline(x=np.mean(all_title_words_lens), color='red', linestyle='-')\n",
        "plt.hist(all_title_words_lens, bins=25, alpha=0.5,\n",
        "            histtype='stepfilled',\n",
        "            edgecolor='none')\n",
        "plt.title(\"Title\")\n",
        "plt.ylabel('quantity')\n",
        "plt.xlabel('length')\n",
        "\n",
        "min_ylim, max_ylim = plt.ylim()\n",
        "plt.text(np.mean(all_title_words_lens)*1.1, max_ylim*0.9, 'Mean: {:.2f}'.format(np.mean(all_title_words_lens)));"
      ],
      "execution_count": 0,
      "outputs": [
        {
          "output_type": "display_data",
          "data": {
            "image/png": "[encoded data removed]",
            "text/plain": [
              "<Figure size 1120x480 with 2 Axes>"
            ]
          },
          "metadata": {
            "tags": []
          }
        }
      ]
    },
    {
      "cell_type": "markdown",
      "metadata": {
        "id": "nV7mV8083bT0",
        "colab_type": "text"
      },
      "source": [
        "## Delete longest words"
      ]
    },
    {
      "cell_type": "code",
      "metadata": {
        "id": "9W91Xo0d3acc",
        "colab_type": "code",
        "colab": {}
      },
      "source": [
        "splited_abstracts = [[token for token in splited_abstracts[i] if len(token)<22] for i in range(len(splited_abstracts))]\n",
        "splited_titles = [[token for token in splited_titles[i] if len(token)<22] for i in range(len(splited_abstracts))]\n",
        "\n",
        "filtred_df = pd.DataFrame({'abstract' : [' '.join(splited_abstracts[i]) for i in range(len(splited_abstracts))],\n",
        "                          'title' :  [' '.join(splited_titles[i]) for i in range(len(splited_titles))]})"
      ],
      "execution_count": 0,
      "outputs": []
    },
    {
      "cell_type": "markdown",
      "metadata": {
        "id": "QBvPgTPH3t9m",
        "colab_type": "text"
      },
      "source": [
        "## Find title words entry position in abstract"
      ]
    },
    {
      "cell_type": "code",
      "metadata": {
        "id": "iRWL5suA3psJ",
        "colab_type": "code",
        "colab": {}
      },
      "source": [
        "pattern = r\"\\w+-\\w+-\\w+|\\w+-\\w+|\\w+'\\w+|\\w+\"\n",
        "\n",
        "splited_abstracts = [re.findall(pattern, abstract) for abstract in filtred_df['abstract']]\n",
        "splited_titles = [re.findall(pattern, title) for title in filtred_df['title']]"
      ],
      "execution_count": 0,
      "outputs": []
    },
    {
      "cell_type": "code",
      "metadata": {
        "id": "D1xdyJAN3ynI",
        "colab_type": "code",
        "colab": {}
      },
      "source": [
        "def find_spans(abstracts, titles):\n",
        "    spans = []\n",
        "    j = 0\n",
        "    for i in range(len(titles)):\n",
        "        for word in titles[i][-1]:\n",
        "            for j in range(len(abstracts[i])):\n",
        "                if word == abstracts[i][j]:\n",
        "                    spans.append(j)\n",
        "                    break\n",
        "    return spans\n",
        "\n",
        "spans = find_spans(splited_abstracts, splited_titles)"
      ],
      "execution_count": 0,
      "outputs": []
    },
    {
      "cell_type": "code",
      "metadata": {
        "id": "l5TM0wo-3zpa",
        "colab_type": "code",
        "outputId": "e39b8c90-6d1b-4705-c79a-f19e2decf66d",
        "colab": {
          "base_uri": "https://localhost:8080/",
          "height": 444
        }
      },
      "source": [
        "plt.style.use('dark_background')\n",
        "figure(num=None, figsize=(14, 6), dpi=80, edgecolor='k')\n",
        "\n",
        "plt.axvline(x=np.mean(spans), color='red', linestyle='-')\n",
        "plt.hist(spans, bins=100, alpha=0.5,\n",
        "            histtype='stepfilled',\n",
        "            edgecolor='none')\n",
        "plt.title(\"Word entry\")\n",
        "plt.ylabel('quantity')\n",
        "plt.xlabel('Word entry position number')\n",
        "\n",
        "min_ylim, max_ylim = plt.ylim()\n",
        "plt.text(np.mean(spans)*1.1, max_ylim*0.9, 'Mean: {:.2f}'.format(np.mean(spans)));"
      ],
      "execution_count": 0,
      "outputs": [
        {
          "output_type": "display_data",
          "data": {
            "image/png": "[encoded data removed]",
            "text/plain": [
              "<Figure size 1120x480 with 1 Axes>"
            ]
          },
          "metadata": {
            "tags": []
          }
        }
      ]
    },
    {
      "cell_type": "markdown",
      "metadata": {
        "id": "bU2OZGkcaEeE",
        "colab_type": "text"
      },
      "source": [
        "## Title and abstract lenghts"
      ]
    },
    {
      "cell_type": "code",
      "metadata": {
        "id": "7hiQrMefxPtF",
        "colab_type": "code",
        "colab": {}
      },
      "source": [
        "abstract_lens = [len(splited_abstracts[i]) for i in range(len(splited_abstracts))]\n",
        "title_lens = [len(splited_titles[i]) for i in range(len(splited_titles))]"
      ],
      "execution_count": 0,
      "outputs": []
    },
    {
      "cell_type": "code",
      "metadata": {
        "trusted": true,
        "id": "OVK-UebcaEeE",
        "colab_type": "code",
        "outputId": "5eb21b7b-25de-4542-c2a5-942824917cf4",
        "colab": {
          "base_uri": "https://localhost:8080/",
          "height": 444
        }
      },
      "source": [
        "plt.style.use('dark_background')\n",
        "\n",
        "figure(num=None, figsize=(14, 6), dpi=80, edgecolor='k')\n",
        "\n",
        "plt.subplot(1, 2, 1)\n",
        "plt.axvline(x=np.mean(abstract_lens), color='red', linestyle='-')\n",
        "plt.hist(abstract_lens, bins=100, alpha=0.5,\n",
        "            histtype='stepfilled',\n",
        "            edgecolor='none')\n",
        "plt.title(\"Abstract\")\n",
        "plt.ylabel('quantity')\n",
        "plt.xlabel('length')\n",
        "\n",
        "min_ylim, max_ylim = plt.ylim()\n",
        "plt.text(np.mean(abstract_lens)*1.1, max_ylim*0.9, 'Mean: {:.2f}'.format(np.mean(abstract_lens)));\n",
        "\n",
        "plt.subplot(1, 2, 2)\n",
        "plt.axvline(x=np.mean(title_lens), color='red', linestyle='-')\n",
        "plt.hist(title_lens, bins=50, alpha=0.5,\n",
        "            histtype='stepfilled',\n",
        "            edgecolor='none')\n",
        "plt.title(\"Title\")\n",
        "plt.ylabel('quantity')\n",
        "plt.xlabel('length')\n",
        "\n",
        "min_ylim, max_ylim = plt.ylim()\n",
        "plt.text(np.mean(title_lens)*1.1, max_ylim*0.9, 'Mean: {:.2f}'.format(np.mean(title_lens)));"
      ],
      "execution_count": 0,
      "outputs": [
        {
          "output_type": "display_data",
          "data": {
            "image/png": "[encoded data removed]",
            "text/plain": [
              "<Figure size 1120x480 with 2 Axes>"
            ]
          },
          "metadata": {
            "tags": []
          }
        }
      ]
    },
    {
      "cell_type": "markdown",
      "metadata": {
        "id": "70NHUwafaEd6",
        "colab_type": "text"
      },
      "source": [
        "## Count data Languages\n",
        "\n",
        "\n"
      ]
    },
    {
      "cell_type": "code",
      "metadata": {
        "trusted": true,
        "id": "wNTasVpKaEd6",
        "colab_type": "code",
        "outputId": "14a2ad89-a8ee-4061-dfb6-7cf81de82153",
        "colab": {
          "base_uri": "https://localhost:8080/",
          "height": 373
        }
      },
      "source": [
        "def get_language(text):\n",
        "    return Detector(\"\".join(x for x in text if x.isprintable()), quiet=True).languages[0].name\n",
        "\n",
        "train_df[\"lang\"] = train_df[\"abstract\"].progress_apply(get_language)"
      ],
      "execution_count": 0,
      "outputs": [
        {
          "output_type": "stream",
          "text": [
            "  0%|          | 0/135000 [00:00<?, ?it/s]Detector is not able to detect the language reliably.\n",
            " 17%|█▋        | 23175/135000 [00:03<00:16, 6946.63it/s]Detector is not able to detect the language reliably.\n",
            " 18%|█▊        | 24614/135000 [00:03<00:15, 7083.20it/s]Detector is not able to detect the language reliably.\n",
            " 25%|██▌       | 34050/135000 [00:04<00:14, 7092.56it/s]Detector is not able to detect the language reliably.\n",
            " 40%|███▉      | 53677/135000 [00:07<00:11, 7205.71it/s]Detector is not able to detect the language reliably.\n",
            " 41%|████▏     | 55870/135000 [00:07<00:11, 7096.48it/s]Detector is not able to detect the language reliably.\n",
            " 45%|████▌     | 60960/135000 [00:08<00:10, 7030.36it/s]Detector is not able to detect the language reliably.\n",
            " 49%|████▉     | 66002/135000 [00:09<00:09, 7109.45it/s]Detector is not able to detect the language reliably.\n",
            "Detector is not able to detect the language reliably.\n",
            " 52%|█████▏    | 70247/135000 [00:09<00:09, 6982.28it/s]Detector is not able to detect the language reliably.\n",
            " 53%|█████▎    | 71643/135000 [00:10<00:09, 6926.40it/s]Detector is not able to detect the language reliably.\n",
            " 71%|███████   | 96084/135000 [00:13<00:05, 7146.42it/s]Detector is not able to detect the language reliably.\n",
            " 72%|███████▏  | 97501/135000 [00:13<00:05, 6978.19it/s]Detector is not able to detect the language reliably.\n",
            " 82%|████████▏ | 111106/135000 [00:15<00:03, 7028.46it/s]Detector is not able to detect the language reliably.\n",
            " 91%|█████████ | 122683/135000 [00:17<00:01, 7191.27it/s]Detector is not able to detect the language reliably.\n",
            " 93%|█████████▎| 125570/135000 [00:17<00:01, 7193.63it/s]Detector is not able to detect the language reliably.\n",
            " 94%|█████████▎| 126290/135000 [00:17<00:01, 7144.57it/s]Detector is not able to detect the language reliably.\n",
            " 99%|█████████▉| 133611/135000 [00:18<00:00, 7388.09it/s]Detector is not able to detect the language reliably.\n",
            "100%|██████████| 135000/135000 [00:19<00:00, 7097.62it/s]\n"
          ],
          "name": "stderr"
        }
      ]
    },
    {
      "cell_type": "code",
      "metadata": {
        "trusted": true,
        "id": "7Hf6uy4eaEd8",
        "colab_type": "code",
        "outputId": "e19cca0a-21f4-4610-9b1a-aeb82f079668",
        "colab": {
          "base_uri": "https://localhost:8080/",
          "height": 542
        }
      },
      "source": [
        "lang_list = sorted(list(set(train_df[\"lang\"])))\n",
        "counts = [list(train_df[\"lang\"]).count(cont) for cont in lang_list]\n",
        "df = pd.DataFrame(np.transpose([lang_list, counts]))\n",
        "df.columns = [\"Language\", \"Count\"]\n",
        "df[\"Count\"] = df[\"Count\"].apply(int)\n",
        "\n",
        "df_en = pd.DataFrame(np.transpose([[\"English\", \"Non-English\"], [max(counts), sum(counts) - max(counts)]]))\n",
        "df_en.columns = [\"Language\", \"Count\"]\n",
        "\n",
        "fig = px.bar(df_en, x=\"Language\", y=\"Count\", title=\"Language of comments\", color=\"Language\", text=\"Count\")\n",
        "fig.update_layout(template=\"plotly_dark\")\n",
        "fig.data[0].marker.line.color = 'rgb(0, 0, 0)'\n",
        "fig.data[0].marker.line.width = 0.5\n",
        "fig.data[1].marker.line.color = 'rgb(0, 0, 0)'\n",
        "fig.data[1].marker.line.width = 0.5\n",
        "fig.data[0].textfont.color = \"black\"\n",
        "fig.data[0].textposition = \"outside\"\n",
        "fig.data[1].textfont.color = \"black\"\n",
        "fig.data[1].textposition = \"outside\"\n",
        "fig"
      ],
      "execution_count": 0,
      "outputs": [
        {
          "output_type": "display_data",
          "data": {
            "text/html": [
              "<html>\n",
              "<head><meta charset=\"utf-8\" /></head>\n",
              "<body>\n",
              "    <div>\n",
              "            <script src=\"https://cdnjs.cloudflare.com/ajax/libs/mathjax/2.7.5/MathJax.js?config=TeX-AMS-MML_SVG\"></script><script type=\"text/javascript\">if (window.MathJax) {MathJax.Hub.Config({SVG: {font: \"STIX-Web\"}});}</script>\n",
              "                <script type=\"text/javascript\">window.PlotlyConfig = {MathJaxConfig: 'local'};</script>\n",
              "        <script src=\"https://cdn.plot.ly/plotly-latest.min.js\"></script>    \n",
              "            <div id=\"b5c1e0d0-7fbe-4a7b-9a78-cf25dcd24354\" class=\"plotly-graph-div\" style=\"height:525px; width:100%;\"></div>\n",
              "            <script type=\"text/javascript\">\n",
              "                \n",
              "                    window.PLOTLYENV=window.PLOTLYENV || {};\n",
              "                    \n",
              "                if (document.getElementById(\"b5c1e0d0-7fbe-4a7b-9a78-cf25dcd24354\")) {\n",
              "                    Plotly.newPlot(\n",
              "                        'b5c1e0d0-7fbe-4a7b-9a78-cf25dcd24354',\n",
              "                        [{\"alignmentgroup\": \"True\", \"hoverlabel\": {\"namelength\": 0}, \"hovertemplate\": \"Language=%{x}<br>Count=%{text}\", \"legendgroup\": \"Language=English\", \"marker\": {\"color\": \"#636efa\", \"line\": {\"color\": \"rgb(0, 0, 0)\", \"width\": 0.5}}, \"name\": \"Language=English\", \"offsetgroup\": \"Language=English\", \"orientation\": \"v\", \"showlegend\": true, \"text\": [\"134975\"], \"textfont\": {\"color\": \"black\"}, \"textposition\": \"outside\", \"type\": \"bar\", \"x\": [\"English\"], \"xaxis\": \"x\", \"y\": [\"134975\"], \"yaxis\": \"y\"}, {\"alignmentgroup\": \"True\", \"hoverlabel\": {\"namelength\": 0}, \"hovertemplate\": \"Language=%{x}<br>Count=%{text}\", \"legendgroup\": \"Language=Non-English\", \"marker\": {\"color\": \"#EF553B\", \"line\": {\"color\": \"rgb(0, 0, 0)\", \"width\": 0.5}}, \"name\": \"Language=Non-English\", \"offsetgroup\": \"Language=Non-English\", \"orientation\": \"v\", \"showlegend\": true, \"text\": [\"25\"], \"textfont\": {\"color\": \"black\"}, \"textposition\": \"outside\", \"type\": \"bar\", \"x\": [\"Non-English\"], \"xaxis\": \"x\", \"y\": [\"25\"], \"yaxis\": \"y\"}],\n",
              "                        {\"barmode\": \"relative\", \"legend\": {\"tracegroupgap\": 0}, \"template\": {\"data\": {\"bar\": [{\"error_x\": {\"color\": \"#f2f5fa\"}, \"error_y\": {\"color\": \"#f2f5fa\"}, \"marker\": {\"line\": {\"color\": \"rgb(17,17,17)\", \"width\": 0.5}}, \"type\": \"bar\"}], \"barpolar\": [{\"marker\": {\"line\": {\"color\": \"rgb(17,17,17)\", \"width\": 0.5}}, \"type\": \"barpolar\"}], \"carpet\": [{\"aaxis\": {\"endlinecolor\": \"#A2B1C6\", \"gridcolor\": \"#506784\", \"linecolor\": \"#506784\", \"minorgridcolor\": \"#506784\", \"startlinecolor\": \"#A2B1C6\"}, \"baxis\": {\"endlinecolor\": \"#A2B1C6\", \"gridcolor\": \"#506784\", \"linecolor\": \"#506784\", \"minorgridcolor\": \"#506784\", \"startlinecolor\": \"#A2B1C6\"}, \"type\": \"carpet\"}], \"choropleth\": [{\"colorbar\": {\"outlinewidth\": 0, \"ticks\": \"\"}, \"type\": \"choropleth\"}], \"contour\": [{\"colorbar\": {\"outlinewidth\": 0, \"ticks\": \"\"}, \"colorscale\": [[0.0, \"#0d0887\"], [0.1111111111111111, \"#46039f\"], [0.2222222222222222, \"#7201a8\"], [0.3333333333333333, \"#9c179e\"], [0.4444444444444444, \"#bd3786\"], [0.5555555555555556, \"#d8576b\"], [0.6666666666666666, \"#ed7953\"], [0.7777777777777778, \"#fb9f3a\"], [0.8888888888888888, \"#fdca26\"], [1.0, \"#f0f921\"]], \"type\": \"contour\"}], \"contourcarpet\": [{\"colorbar\": {\"outlinewidth\": 0, \"ticks\": \"\"}, \"type\": \"contourcarpet\"}], \"heatmap\": [{\"colorbar\": {\"outlinewidth\": 0, \"ticks\": \"\"}, \"colorscale\": [[0.0, \"#0d0887\"], [0.1111111111111111, \"#46039f\"], [0.2222222222222222, \"#7201a8\"], [0.3333333333333333, \"#9c179e\"], [0.4444444444444444, \"#bd3786\"], [0.5555555555555556, \"#d8576b\"], [0.6666666666666666, \"#ed7953\"], [0.7777777777777778, \"#fb9f3a\"], [0.8888888888888888, \"#fdca26\"], [1.0, \"#f0f921\"]], \"type\": \"heatmap\"}], \"heatmapgl\": [{\"colorbar\": {\"outlinewidth\": 0, \"ticks\": \"\"}, \"colorscale\": [[0.0, \"#0d0887\"], [0.1111111111111111, \"#46039f\"], [0.2222222222222222, \"#7201a8\"], [0.3333333333333333, \"#9c179e\"], [0.4444444444444444, \"#bd3786\"], [0.5555555555555556, \"#d8576b\"], [0.6666666666666666, \"#ed7953\"], [0.7777777777777778, \"#fb9f3a\"], [0.8888888888888888, \"#fdca26\"], [1.0, \"#f0f921\"]], \"type\": \"heatmapgl\"}], \"histogram\": [{\"marker\": {\"colorbar\": {\"outlinewidth\": 0, \"ticks\": \"\"}}, \"type\": \"histogram\"}], \"histogram2d\": [{\"colorbar\": {\"outlinewidth\": 0, \"ticks\": \"\"}, \"colorscale\": [[0.0, \"#0d0887\"], [0.1111111111111111, \"#46039f\"], [0.2222222222222222, \"#7201a8\"], [0.3333333333333333, \"#9c179e\"], [0.4444444444444444, \"#bd3786\"], [0.5555555555555556, \"#d8576b\"], [0.6666666666666666, \"#ed7953\"], [0.7777777777777778, \"#fb9f3a\"], [0.8888888888888888, \"#fdca26\"], [1.0, \"#f0f921\"]], \"type\": \"histogram2d\"}], \"histogram2dcontour\": [{\"colorbar\": {\"outlinewidth\": 0, \"ticks\": \"\"}, \"colorscale\": [[0.0, \"#0d0887\"], [0.1111111111111111, \"#46039f\"], [0.2222222222222222, \"#7201a8\"], [0.3333333333333333, \"#9c179e\"], [0.4444444444444444, \"#bd3786\"], [0.5555555555555556, \"#d8576b\"], [0.6666666666666666, \"#ed7953\"], [0.7777777777777778, \"#fb9f3a\"], [0.8888888888888888, \"#fdca26\"], [1.0, \"#f0f921\"]], \"type\": \"histogram2dcontour\"}], \"mesh3d\": [{\"colorbar\": {\"outlinewidth\": 0, \"ticks\": \"\"}, \"type\": \"mesh3d\"}], \"parcoords\": [{\"line\": {\"colorbar\": {\"outlinewidth\": 0, \"ticks\": \"\"}}, \"type\": \"parcoords\"}], \"pie\": [{\"automargin\": true, \"type\": \"pie\"}], \"scatter\": [{\"marker\": {\"line\": {\"color\": \"#283442\"}}, \"type\": \"scatter\"}], \"scatter3d\": [{\"line\": {\"colorbar\": {\"outlinewidth\": 0, \"ticks\": \"\"}}, \"marker\": {\"colorbar\": {\"outlinewidth\": 0, \"ticks\": \"\"}}, \"type\": \"scatter3d\"}], \"scattercarpet\": [{\"marker\": {\"colorbar\": {\"outlinewidth\": 0, \"ticks\": \"\"}}, \"type\": \"scattercarpet\"}], \"scattergeo\": [{\"marker\": {\"colorbar\": {\"outlinewidth\": 0, \"ticks\": \"\"}}, \"type\": \"scattergeo\"}], \"scattergl\": [{\"marker\": {\"line\": {\"color\": \"#283442\"}}, \"type\": \"scattergl\"}], \"scattermapbox\": [{\"marker\": {\"colorbar\": {\"outlinewidth\": 0, \"ticks\": \"\"}}, \"type\": \"scattermapbox\"}], \"scatterpolar\": [{\"marker\": {\"colorbar\": {\"outlinewidth\": 0, \"ticks\": \"\"}}, \"type\": \"scatterpolar\"}], \"scatterpolargl\": [{\"marker\": {\"colorbar\": {\"outlinewidth\": 0, \"ticks\": \"\"}}, \"type\": \"scatterpolargl\"}], \"scatterternary\": [{\"marker\": {\"colorbar\": {\"outlinewidth\": 0, \"ticks\": \"\"}}, \"type\": \"scatterternary\"}], \"surface\": [{\"colorbar\": {\"outlinewidth\": 0, \"ticks\": \"\"}, \"colorscale\": [[0.0, \"#0d0887\"], [0.1111111111111111, \"#46039f\"], [0.2222222222222222, \"#7201a8\"], [0.3333333333333333, \"#9c179e\"], [0.4444444444444444, \"#bd3786\"], [0.5555555555555556, \"#d8576b\"], [0.6666666666666666, \"#ed7953\"], [0.7777777777777778, \"#fb9f3a\"], [0.8888888888888888, \"#fdca26\"], [1.0, \"#f0f921\"]], \"type\": \"surface\"}], \"table\": [{\"cells\": {\"fill\": {\"color\": \"#506784\"}, \"line\": {\"color\": \"rgb(17,17,17)\"}}, \"header\": {\"fill\": {\"color\": \"#2a3f5f\"}, \"line\": {\"color\": \"rgb(17,17,17)\"}}, \"type\": \"table\"}]}, \"layout\": {\"annotationdefaults\": {\"arrowcolor\": \"#f2f5fa\", \"arrowhead\": 0, \"arrowwidth\": 1}, \"coloraxis\": {\"colorbar\": {\"outlinewidth\": 0, \"ticks\": \"\"}}, \"colorscale\": {\"diverging\": [[0, \"#8e0152\"], [0.1, \"#c51b7d\"], [0.2, \"#de77ae\"], [0.3, \"#f1b6da\"], [0.4, \"#fde0ef\"], [0.5, \"#f7f7f7\"], [0.6, \"#e6f5d0\"], [0.7, \"#b8e186\"], [0.8, \"#7fbc41\"], [0.9, \"#4d9221\"], [1, \"#276419\"]], \"sequential\": [[0.0, \"#0d0887\"], [0.1111111111111111, \"#46039f\"], [0.2222222222222222, \"#7201a8\"], [0.3333333333333333, \"#9c179e\"], [0.4444444444444444, \"#bd3786\"], [0.5555555555555556, \"#d8576b\"], [0.6666666666666666, \"#ed7953\"], [0.7777777777777778, \"#fb9f3a\"], [0.8888888888888888, \"#fdca26\"], [1.0, \"#f0f921\"]], \"sequentialminus\": [[0.0, \"#0d0887\"], [0.1111111111111111, \"#46039f\"], [0.2222222222222222, \"#7201a8\"], [0.3333333333333333, \"#9c179e\"], [0.4444444444444444, \"#bd3786\"], [0.5555555555555556, \"#d8576b\"], [0.6666666666666666, \"#ed7953\"], [0.7777777777777778, \"#fb9f3a\"], [0.8888888888888888, \"#fdca26\"], [1.0, \"#f0f921\"]]}, \"colorway\": [\"#636efa\", \"#EF553B\", \"#00cc96\", \"#ab63fa\", \"#FFA15A\", \"#19d3f3\", \"#FF6692\", \"#B6E880\", \"#FF97FF\", \"#FECB52\"], \"font\": {\"color\": \"#f2f5fa\"}, \"geo\": {\"bgcolor\": \"rgb(17,17,17)\", \"lakecolor\": \"rgb(17,17,17)\", \"landcolor\": \"rgb(17,17,17)\", \"showlakes\": true, \"showland\": true, \"subunitcolor\": \"#506784\"}, \"hoverlabel\": {\"align\": \"left\"}, \"hovermode\": \"closest\", \"mapbox\": {\"style\": \"dark\"}, \"paper_bgcolor\": \"rgb(17,17,17)\", \"plot_bgcolor\": \"rgb(17,17,17)\", \"polar\": {\"angularaxis\": {\"gridcolor\": \"#506784\", \"linecolor\": \"#506784\", \"ticks\": \"\"}, \"bgcolor\": \"rgb(17,17,17)\", \"radialaxis\": {\"gridcolor\": \"#506784\", \"linecolor\": \"#506784\", \"ticks\": \"\"}}, \"scene\": {\"xaxis\": {\"backgroundcolor\": \"rgb(17,17,17)\", \"gridcolor\": \"#506784\", \"gridwidth\": 2, \"linecolor\": \"#506784\", \"showbackground\": true, \"ticks\": \"\", \"zerolinecolor\": \"#C8D4E3\"}, \"yaxis\": {\"backgroundcolor\": \"rgb(17,17,17)\", \"gridcolor\": \"#506784\", \"gridwidth\": 2, \"linecolor\": \"#506784\", \"showbackground\": true, \"ticks\": \"\", \"zerolinecolor\": \"#C8D4E3\"}, \"zaxis\": {\"backgroundcolor\": \"rgb(17,17,17)\", \"gridcolor\": \"#506784\", \"gridwidth\": 2, \"linecolor\": \"#506784\", \"showbackground\": true, \"ticks\": \"\", \"zerolinecolor\": \"#C8D4E3\"}}, \"shapedefaults\": {\"line\": {\"color\": \"#f2f5fa\"}}, \"sliderdefaults\": {\"bgcolor\": \"#C8D4E3\", \"bordercolor\": \"rgb(17,17,17)\", \"borderwidth\": 1, \"tickwidth\": 0}, \"ternary\": {\"aaxis\": {\"gridcolor\": \"#506784\", \"linecolor\": \"#506784\", \"ticks\": \"\"}, \"baxis\": {\"gridcolor\": \"#506784\", \"linecolor\": \"#506784\", \"ticks\": \"\"}, \"bgcolor\": \"rgb(17,17,17)\", \"caxis\": {\"gridcolor\": \"#506784\", \"linecolor\": \"#506784\", \"ticks\": \"\"}}, \"title\": {\"x\": 0.05}, \"updatemenudefaults\": {\"bgcolor\": \"#506784\", \"borderwidth\": 0}, \"xaxis\": {\"automargin\": true, \"gridcolor\": \"#283442\", \"linecolor\": \"#506784\", \"ticks\": \"\", \"title\": {\"standoff\": 15}, \"zerolinecolor\": \"#283442\", \"zerolinewidth\": 2}, \"yaxis\": {\"automargin\": true, \"gridcolor\": \"#283442\", \"linecolor\": \"#506784\", \"ticks\": \"\", \"title\": {\"standoff\": 15}, \"zerolinecolor\": \"#283442\", \"zerolinewidth\": 2}}}, \"title\": {\"text\": \"Language of comments\"}, \"xaxis\": {\"anchor\": \"y\", \"categoryarray\": [\"English\", \"Non-English\"], \"categoryorder\": \"array\", \"domain\": [0.0, 1.0], \"title\": {\"text\": \"Language\"}}, \"yaxis\": {\"anchor\": \"x\", \"domain\": [0.0, 1.0], \"title\": {\"text\": \"Count\"}}},\n",
              "                        {\"responsive\": true}\n",
              "                    ).then(function(){\n",
              "                            \n",
              "var gd = document.getElementById('b5c1e0d0-7fbe-4a7b-9a78-cf25dcd24354');\n",
              "var x = new MutationObserver(function (mutations, observer) {{\n",
              "        var display = window.getComputedStyle(gd).display;\n",
              "        if (!display || display === 'none') {{\n",
              "            console.log([gd, 'removed!']);\n",
              "            Plotly.purge(gd);\n",
              "            observer.disconnect();\n",
              "        }}\n",
              "}});\n",
              "\n",
              "// Listen for the removal of the full notebook cells\n",
              "var notebookContainer = gd.closest('#notebook-container');\n",
              "if (notebookContainer) {{\n",
              "    x.observe(notebookContainer, {childList: true});\n",
              "}}\n",
              "\n",
              "// Listen for the clearing of the current output cell\n",
              "var outputEl = gd.closest('.output');\n",
              "if (outputEl) {{\n",
              "    x.observe(outputEl, {childList: true});\n",
              "}}\n",
              "\n",
              "                        })\n",
              "                };\n",
              "                \n",
              "            </script>\n",
              "        </div>\n",
              "</body>\n",
              "</html>"
            ]
          },
          "metadata": {
            "tags": []
          }
        }
      ]
    },
    {
      "cell_type": "markdown",
      "metadata": {
        "id": "46CmslYRaEd-",
        "colab_type": "text"
      },
      "source": [
        "## How many tokens from the titles are not in the abstract?"
      ]
    },
    {
      "cell_type": "code",
      "metadata": {
        "trusted": true,
        "id": "W9SFFfTqaEd_",
        "colab_type": "code",
        "colab": {}
      },
      "source": [
        "def tokens_not_in_abstract(source, target):\n",
        "    percents = dict()\n",
        "    cnt = 0\n",
        "    for _ in range(len(source)):\n",
        "        for tkn in target[_]:\n",
        "            if tkn not in source[_]:\n",
        "                cnt+=1\n",
        "        percents[_] =100*cnt/len(target[_])\n",
        "        cnt=0\n",
        "    return percents\n",
        "        \n",
        "not_in_abstract = tokens_not_in_abstract(splited_abstracts, splited_titles)"
      ],
      "execution_count": 0,
      "outputs": []
    },
    {
      "cell_type": "code",
      "metadata": {
        "trusted": true,
        "id": "A18Nv5UsaEeC",
        "colab_type": "code",
        "outputId": "213317e1-4c05-4c6d-8b8c-1176f4924d29",
        "colab": {
          "base_uri": "https://localhost:8080/",
          "height": 439
        }
      },
      "source": [
        "plt.style.use('dark_background')\n",
        "\n",
        "figure(num=None, figsize=(14, 6), dpi=80, edgecolor='k')\n",
        "\n",
        "plt.hist(not_in_abstract.values(), bins=100, alpha=0.5,\n",
        "            histtype='stepfilled', color='steelblue',\n",
        "            edgecolor='none')\n",
        "plt.title(\"Title tokens not in the abstract\") \n",
        "plt.xlabel(\"percentage\")            \n",
        "plt.ylabel(\"quantity\"); "
      ],
      "execution_count": 0,
      "outputs": [
        {
          "output_type": "display_data",
          "data": {
            "image/png": "[encoded data removed]",
            "text/plain": [
              "<Figure size 1120x480 with 1 Axes>"
            ]
          },
          "metadata": {
            "tags": []
          }
        }
      ]
    },
    {
      "cell_type": "markdown",
      "metadata": {
        "id": "ZmT1hkKW6gx_",
        "colab_type": "text"
      },
      "source": [
        "## Word frequencies\n"
      ]
    },
    {
      "cell_type": "code",
      "metadata": {
        "id": "MPPFNrPR6b3y",
        "colab_type": "code",
        "colab": {}
      },
      "source": [
        "def word_freqs(tokenized_texts):\n",
        "    word_counts = collections.defaultdict(int)\n",
        "    doc_n = 0\n",
        "\n",
        "    # посчитать количество документов, в которых употребляется каждое слово\n",
        "    # а также общее количество документов\n",
        "    for txt in tokenized_texts:\n",
        "        doc_n += 1\n",
        "        unique_text_tokens = set(txt)\n",
        "        for token in unique_text_tokens:\n",
        "            word_counts[token] += 1\n",
        "\n",
        "    # отсортировать слова по убыванию частоты\n",
        "    sorted_word_counts = sorted(word_counts.items(),\n",
        "                                reverse=True,\n",
        "                                key=lambda pair: pair[1])\n",
        "    # нумеруем слова\n",
        "    word2id = {word: i for i, (word, _) in enumerate(sorted_word_counts)}\n",
        "\n",
        "    # нормируем частоты слов\n",
        "    word2freq = {word: cnt for word, cnt in sorted_word_counts}\n",
        "\n",
        "    return word2id, word2freq\n",
        "\n",
        "word_to_id_src, word_doc_freq_src = word_freqs(splited_abstracts)\n",
        "word_to_id_trg, word_doc_freq_trg = word_freqs(splited_titles)"
      ],
      "execution_count": 0,
      "outputs": []
    },
    {
      "cell_type": "code",
      "metadata": {
        "id": "wkP5zvfJ6xWO",
        "colab_type": "code",
        "outputId": "15e07037-da92-46b7-9c85-0ef6c1f91c02",
        "colab": {
          "base_uri": "https://localhost:8080/",
          "height": 439
        }
      },
      "source": [
        "plt.style.use('dark_background')\n",
        "\n",
        "figure(num=None, figsize=(14, 6), dpi=80, edgecolor='k')\n",
        "\n",
        "plt.subplot(1, 2, 1)\n",
        "plt.hist(word_doc_freq_src.values(), bins=100, alpha=0.5,\n",
        "            histtype='stepfilled', color='steelblue',\n",
        "            edgecolor='none')\n",
        "plt.title(\"Abstracts\")\n",
        "plt.ylabel('frequency')\n",
        "plt.xlabel('quantity')\n",
        "plt.yscale('log')\n",
        "\n",
        "min_ylim, max_ylim = plt.ylim();\n",
        "\n",
        "plt.subplot(1, 2, 2)\n",
        "plt.hist(word_doc_freq_trg.values(), bins=50, alpha=0.5,\n",
        "            histtype='stepfilled', color='steelblue',\n",
        "            edgecolor='none')\n",
        "plt.title(\"Titles\")\n",
        "plt.ylabel('frequency')\n",
        "plt.xlabel('quantity')\n",
        "plt.yscale('log')\n",
        "\n",
        "min_ylim, max_ylim = plt.ylim();"
      ],
      "execution_count": 0,
      "outputs": [
        {
          "output_type": "display_data",
          "data": {
            "image/png": "[encoded data removed]",
            "text/plain": [
              "<Figure size 1120x480 with 2 Axes>"
            ]
          },
          "metadata": {
            "tags": []
          }
        }
      ]
    },
    {
      "cell_type": "markdown",
      "metadata": {
        "id": "0uVcV8vu4pUm",
        "colab_type": "text"
      },
      "source": [
        "## Cut abstracts\n"
      ]
    },
    {
      "cell_type": "code",
      "metadata": {
        "id": "YpP9vjVmy1r_",
        "colab_type": "code",
        "colab": {}
      },
      "source": [
        "filtred_df = pd.DataFrame({'abstract' : [' '.join(splited_abstracts[i][0:150]) for i in range(len(splited_abstracts))],\n",
        "                          'title' :  [' '.join(splited_titles[i][0:25]) for i in range(len(splited_titles))]})\n",
        "\n",
        "filtred_df.to_csv('/content/drive/My Drive/filtred_train.csv', index=False)"
      ],
      "execution_count": 0,
      "outputs": []
    },
    {
      "cell_type": "markdown",
      "metadata": {
        "id": "X4kuGJk6aEeI",
        "colab_type": "text"
      },
      "source": [
        "## Create iterators"
      ]
    },
    {
      "cell_type": "code",
      "metadata": {
        "id": "7gpQPIlU5s65",
        "colab_type": "code",
        "colab": {
          "base_uri": "https://localhost:8080/",
          "height": 115,
          "referenced_widgets": [
            "903d49630b95416caf6ce619b1119c48",
            "ea41396ec67f46f78a828ed3c7e0c341",
            "7a0115fa0dc1440fa4f035734dda8151",
            "288790158757474696bc479231026653",
            "13b3d19924f34ce1b4b0fb2755938f6d",
            "2ec85a2079f145ae9c0f054cdd2c66da",
            "adf2049dab7842d6a07be0a27fda87b8",
            "fa90b0d9d65942a4a10b446998fcdcab",
            "aa33e5cf915348a4bbe26ef9cfae6a8f",
            "c9f7e3d59d084db1bc6d9428bdba3db4",
            "cc91e348756b434fb3fb24f49faec675",
            "25bb626415874dc3bf8ac4bcf5edb1a7",
            "789ac252ba8d47339e3ae3af73a68d18",
            "286113b750bf4b679e0996c127fd1b9c",
            "604659357ccb4dfd990d496ed9246e38",
            "505e208fe8054ab8839a85714244174d"
          ]
        },
        "outputId": "d70fc484-5f30-4125-ec8c-a266fd81143f"
      },
      "source": [
        "tokenizer = BartTokenizer.from_pretrained('bart-large-cnn')\n",
        "vocab_keys = tokenizer.get_vocab().keys()\n",
        "\n",
        "def tokenize(text):\n",
        "  \"\"\"\n",
        "  Tokenizes English text from a string into a list of strings (tokens)\n",
        "  \"\"\"\n",
        "  return [token for token in tokenizer.tokenize(text) if token in vocab_keys]"
      ],
      "execution_count": 10,
      "outputs": [
        {
          "output_type": "display_data",
          "data": {
            "application/vnd.jupyter.widget-view+json": {
              "model_id": "903d49630b95416caf6ce619b1119c48",
              "version_minor": 0,
              "version_major": 2
            },
            "text/plain": [
              "HBox(children=(FloatProgress(value=0.0, description='Downloading', max=898823.0, style=ProgressStyle(descripti…"
            ]
          },
          "metadata": {
            "tags": []
          }
        },
        {
          "output_type": "stream",
          "text": [
            "\n"
          ],
          "name": "stdout"
        },
        {
          "output_type": "display_data",
          "data": {
            "application/vnd.jupyter.widget-view+json": {
              "model_id": "aa33e5cf915348a4bbe26ef9cfae6a8f",
              "version_minor": 0,
              "version_major": 2
            },
            "text/plain": [
              "HBox(children=(FloatProgress(value=0.0, description='Downloading', max=456318.0, style=ProgressStyle(descripti…"
            ]
          },
          "metadata": {
            "tags": []
          }
        },
        {
          "output_type": "stream",
          "text": [
            "\n"
          ],
          "name": "stdout"
        }
      ]
    },
    {
      "cell_type": "code",
      "metadata": {
        "id": "4ed1ELKwiGjf",
        "colab_type": "code",
        "colab": {}
      },
      "source": [
        "TEXT = Field(tokenize=tokenize,\n",
        "             init_token='<s>',\n",
        "             eos_token=\"</s>\",\n",
        "             unk_token=\"<unk>\",\n",
        "             pad_token=\"<pad>\",\n",
        "             batch_first = True)\n",
        "\n",
        "trn_data_fields = [(\"src\", TEXT),\n",
        "                   (\"trg\", TEXT)]\n",
        "\n",
        "dataset = data.TabularDataset(\n",
        "    path='/content/drive/My Drive/filtred_train.csv',\n",
        "    format='csv',\n",
        "    skip_header=True,\n",
        "    fields=trn_data_fields\n",
        ")\n",
        "\n",
        "train_data, valid_data, test_data = dataset.split(split_ratio=[0.98, 0.01, 0.01])"
      ],
      "execution_count": 0,
      "outputs": []
    },
    {
      "cell_type": "code",
      "metadata": {
        "id": "8K6bghDciIel",
        "colab_type": "code",
        "outputId": "71e50254-3ec9-4c81-8c70-5e6ff9768645",
        "colab": {
          "base_uri": "https://localhost:8080/",
          "height": 34
        }
      },
      "source": [
        "TEXT.build_vocab() #, vectors='glove.840B.300d', vectors='fasttext.en.300d'\n",
        "\n",
        "TEXT.vocab.stoi = tokenizer.get_vocab()\n",
        "\n",
        "TEXT.vocab.itos = TEXT.vocab.stoi.keys()\n",
        "\n",
        "print(f\"Unique tokens in vocabulary: {len(TEXT.vocab)}\")"
      ],
      "execution_count": 12,
      "outputs": [
        {
          "output_type": "stream",
          "text": [
            "Unique tokens in vocabulary: 50265\n"
          ],
          "name": "stdout"
        }
      ]
    },
    {
      "cell_type": "code",
      "metadata": {
        "id": "Xi63WnMkiK62",
        "colab_type": "code",
        "colab": {}
      },
      "source": [
        "BATCH_SIZE = 5\n",
        "\n",
        "device = torch.device('cuda' if torch.cuda.is_available() else 'cpu')\n",
        "\n",
        "\n",
        "train_iterator, valid_iterator, test_iterator = BucketIterator.splits(\n",
        "    (train_data, valid_data, test_data), \n",
        "     batch_size = BATCH_SIZE,\n",
        "     sort_within_batch = True,\n",
        "     sort_key = lambda x : len(x.src),\n",
        "     shuffle=True,\n",
        "     device = device)"
      ],
      "execution_count": 0,
      "outputs": []
    },
    {
      "cell_type": "markdown",
      "metadata": {
        "id": "5lXitWyPaEeS",
        "colab_type": "text"
      },
      "source": [
        "## Modeling"
      ]
    },
    {
      "cell_type": "code",
      "metadata": {
        "id": "mYaWtv7MFA4r",
        "colab_type": "code",
        "colab": {}
      },
      "source": [
        " def make_mask(seq, seq_pad_idx, device):\n",
        "        \n",
        "        #seq = [batch size, seq len]\n",
        "        \n",
        "        mask = (seq != seq_pad_idx).to(device)\n",
        "\n",
        "        #seq_mask = [batch size, seq len]\n",
        "\n",
        "        return mask"
      ],
      "execution_count": 0,
      "outputs": []
    },
    {
      "cell_type": "code",
      "metadata": {
        "id": "KbZDorAEIAkF",
        "colab_type": "code",
        "colab": {
          "base_uri": "https://localhost:8080/",
          "height": 115,
          "referenced_widgets": [
            "91afc0bfd33a4e98ac9208bfc788b9fd",
            "8a9001640c96484aa82fc2b1a33de873",
            "fe580080da9a4cf2833b23f635d7ec52",
            "aab2a093574346348fec2138e323ab75",
            "a248ce3747cf4576814b0143c85d5cd5",
            "f7b33bd3fb964294b5207b67037a8656",
            "9eb75917afb54ddf8083c66b10e26447",
            "0d7590642bc4492b89f75a226d956301",
            "ef083ca0fc4a4b5c8e11e18a06dde080",
            "017eaf0baaab4a8caf1337c3baf71fc7",
            "0988c1b846cc4e329a2d6ac3cfbf74f2",
            "5ee76cd118ee4711b3c2637a5619949c",
            "887a673ab9b54a538f8345f98944aee8",
            "c0af6543d366445f95c28d948783c77e",
            "b98be61d5e924ef9aa6df48dac0a10e5",
            "3716783dc56b489b96bc877bdfc220b8"
          ]
        },
        "outputId": "df1ee399-ced6-4d56-b9fc-45adff8f24e7"
      },
      "source": [
        "model = BartForConditionalGeneration.from_pretrained('bart-large-cnn').to(device)"
      ],
      "execution_count": 15,
      "outputs": [
        {
          "output_type": "display_data",
          "data": {
            "application/vnd.jupyter.widget-view+json": {
              "model_id": "91afc0bfd33a4e98ac9208bfc788b9fd",
              "version_minor": 0,
              "version_major": 2
            },
            "text/plain": [
              "HBox(children=(FloatProgress(value=0.0, description='Downloading', max=1300.0, style=ProgressStyle(description…"
            ]
          },
          "metadata": {
            "tags": []
          }
        },
        {
          "output_type": "stream",
          "text": [
            "\n"
          ],
          "name": "stdout"
        },
        {
          "output_type": "display_data",
          "data": {
            "application/vnd.jupyter.widget-view+json": {
              "model_id": "ef083ca0fc4a4b5c8e11e18a06dde080",
              "version_minor": 0,
              "version_major": 2
            },
            "text/plain": [
              "HBox(children=(FloatProgress(value=0.0, description='Downloading', max=1625270765.0, style=ProgressStyle(descr…"
            ]
          },
          "metadata": {
            "tags": []
          }
        },
        {
          "output_type": "stream",
          "text": [
            "\n"
          ],
          "name": "stdout"
        }
      ]
    },
    {
      "cell_type": "code",
      "metadata": {
        "trusted": true,
        "id": "6e6wPL7jaEen",
        "colab_type": "code",
        "outputId": "5883990b-33df-4a2e-8c4b-263ae3afdc9c",
        "colab": {
          "base_uri": "https://localhost:8080/",
          "height": 34
        }
      },
      "source": [
        "def count_parameters(model):\n",
        "    return sum(p.numel() for p in model.parameters() if p.requires_grad)\n",
        "\n",
        "print(f'The model has {count_parameters(model):,} trainable parameters')"
      ],
      "execution_count": 16,
      "outputs": [
        {
          "output_type": "stream",
          "text": [
            "The model has 406,290,432 trainable parameters\n"
          ],
          "name": "stdout"
        }
      ]
    },
    {
      "cell_type": "code",
      "metadata": {
        "id": "DmjKPvdYx4wh",
        "colab_type": "code",
        "colab": {}
      },
      "source": [
        "PAD_IDX = TEXT.vocab.stoi[TEXT.pad_token]"
      ],
      "execution_count": 0,
      "outputs": []
    },
    {
      "cell_type": "code",
      "metadata": {
        "trusted": true,
        "id": "G9k2cZNoaEes",
        "colab_type": "code",
        "colab": {}
      },
      "source": [
        "LEARNING_RATE = 0.00001\n",
        "\n",
        "optimizer = AdamW(model.parameters(), lr = LEARNING_RATE)"
      ],
      "execution_count": 0,
      "outputs": []
    },
    {
      "cell_type": "code",
      "metadata": {
        "trusted": true,
        "id": "UJJ6BQWXaEet",
        "colab_type": "code",
        "colab": {}
      },
      "source": [
        "criterion = nn.CrossEntropyLoss(ignore_index = PAD_IDX)"
      ],
      "execution_count": 0,
      "outputs": []
    },
    {
      "cell_type": "markdown",
      "metadata": {
        "id": "I-T-ZLp5aEex",
        "colab_type": "text"
      },
      "source": [
        "## Training routine"
      ]
    },
    {
      "cell_type": "code",
      "metadata": {
        "id": "8l2Ech2gnDMc",
        "colab_type": "code",
        "colab": {}
      },
      "source": [
        "import matplotlib\n",
        "matplotlib.rcParams.update({'figure.figsize': (16, 12), 'font.size': 14, \"ytick.color\" : \"w\", \"xtick.color\" : \"w\"})\n",
        "import matplotlib.pyplot as plt\n",
        "plt.style.use('dark_background')\n",
        "%matplotlib inline\n",
        "from IPython.display import clear_output\n",
        "\n",
        "def train(model, iterator, optimizer, criterion, clip, pad_idx, device, train_history=None, valid_history=None):\n",
        "    \n",
        "    model.train()\n",
        "    \n",
        "    epoch_loss = 0\n",
        "    \n",
        "    history = []\n",
        "\n",
        "    for i, batch in enumerate(iterator):\n",
        "\n",
        "      src = batch.src\n",
        "      trg = batch.trg\n",
        "      #trg = [batch size, trg len]\n",
        "      src_mask = make_mask(src, pad_idx, device)\n",
        "      trg_mask = make_mask(trg[:,:-1], pad_idx, device)\n",
        "\n",
        "      optimizer.zero_grad()\n",
        "\n",
        "      output = model(input_ids=src, \n",
        "                        attention_mask = src_mask, \n",
        "                        decoder_input_ids = trg[:,:-1],\n",
        "                        decoder_attention_mask = trg_mask)\n",
        "      \n",
        "      #output = [batch size, trg len - 1, output dim]\n",
        "\n",
        "      output_dim = output[0].shape[-1]\n",
        "            \n",
        "      output = output[0].contiguous().view(-1, output_dim)\n",
        "      trg = trg[:,1:].contiguous().view(-1)\n",
        "\n",
        "      loss = criterion(output, trg)\n",
        "      \n",
        "      loss.backward()\n",
        "\n",
        "      torch.nn.utils.clip_grad_norm_(model.parameters(), clip)\n",
        "      \n",
        "      optimizer.step()\n",
        "\n",
        "      epoch_loss += loss.item()\n",
        "        \n",
        "      history.append(loss.cpu().data.numpy())\n",
        "        \n",
        "      if (i+1)%10==0:\n",
        "          fig, ax = plt.subplots(nrows=1, ncols=2, figsize=(12, 8))\n",
        "\n",
        "          clear_output(True)\n",
        "          ax[0].plot(history)\n",
        "          ax[0].set_xlabel('Batch')\n",
        "          ax[0].set_title('Train loss')\n",
        "          if train_history is not None:\n",
        "              ax[1].plot(train_history, label='general train history')\n",
        "              ax[1].set_xlabel('Epoch')\n",
        "              ax[1].set_title('Valid loss')\n",
        "          if valid_history is not None:\n",
        "              ax[1].plot(valid_history, label='general valid history')\n",
        "          plt.legend()\n",
        "            \n",
        "          plt.show()\n",
        "    return epoch_loss / len(iterator)"
      ],
      "execution_count": 0,
      "outputs": []
    },
    {
      "cell_type": "code",
      "metadata": {
        "trusted": true,
        "id": "cfMwCK44aEe0",
        "colab_type": "code",
        "colab": {}
      },
      "source": [
        "def evaluate(model, iterator, criterion, pad_idx, device):\n",
        "    \n",
        "    model.eval()\n",
        "    \n",
        "    epoch_loss = 0\n",
        "    \n",
        "    with torch.no_grad():\n",
        "    \n",
        "        for i, batch in enumerate(iterator):\n",
        "\n",
        "            src = batch.src\n",
        "            trg = batch.trg\n",
        "\n",
        "            src_mask = make_mask(src, pad_idx, device)\n",
        "            trg_mask = make_mask(trg[:,:-1], pad_idx, device)\n",
        "\n",
        "            output = model(input_ids=src, \n",
        "                        attention_mask = src_mask, \n",
        "                        decoder_input_ids = trg[:,:-1],\n",
        "                        decoder_attention_mask = trg_mask)\n",
        "            \n",
        "            #output = [batch size, trg len - 1, output dim]\n",
        "            #trg = [batch size, trg len]\n",
        "            \n",
        "            output_dim = output[0].shape[-1]\n",
        "            \n",
        "            output = output[0].contiguous().view(-1, output_dim)\n",
        "            trg = trg[:,1:].contiguous().view(-1)\n",
        "            \n",
        "            #output = [batch size * trg len - 1, output dim]\n",
        "            #trg = [batch size * trg len - 1]\n",
        "            \n",
        "            loss = criterion(output, trg)\n",
        "\n",
        "            epoch_loss += loss.item()\n",
        "        \n",
        "    return epoch_loss / len(iterator)"
      ],
      "execution_count": 0,
      "outputs": []
    },
    {
      "cell_type": "code",
      "metadata": {
        "trusted": true,
        "id": "qE0qK1emaEe1",
        "colab_type": "code",
        "colab": {}
      },
      "source": [
        "def epoch_time(start_time, end_time):\n",
        "    elapsed_time = end_time - start_time\n",
        "    elapsed_mins = int(elapsed_time / 60)\n",
        "    elapsed_secs = int(elapsed_time - (elapsed_mins * 60))\n",
        "    return elapsed_mins, elapsed_secs"
      ],
      "execution_count": 0,
      "outputs": []
    },
    {
      "cell_type": "code",
      "metadata": {
        "trusted": true,
        "id": "gk6LEGGdaEe3",
        "colab_type": "code",
        "colab": {}
      },
      "source": [
        "MODEL_NAME = '/content/drive/My Drive/BART_CNN_large_data.pt'"
      ],
      "execution_count": 0,
      "outputs": []
    },
    {
      "cell_type": "code",
      "metadata": {
        "id": "aOaaLIRbwdaN",
        "colab_type": "code",
        "outputId": "f531b000-f9fd-46f6-aca7-a65525695fec",
        "colab": {
          "base_uri": "https://localhost:8080/",
          "height": 34
        }
      },
      "source": [
        "model.load_state_dict(torch.load(MODEL_NAME))"
      ],
      "execution_count": 24,
      "outputs": [
        {
          "output_type": "execute_result",
          "data": {
            "text/plain": [
              "<All keys matched successfully>"
            ]
          },
          "metadata": {
            "tags": []
          },
          "execution_count": 24
        }
      ]
    },
    {
      "cell_type": "code",
      "metadata": {
        "trusted": true,
        "id": "0v0oaGJtaEe6",
        "colab_type": "code",
        "outputId": "0d12bb9d-3eaa-4d89-ec4b-2b62fc7573a7",
        "colab": {
          "base_uri": "https://localhost:8080/",
          "height": 513
        }
      },
      "source": [
        "# to get results like in leaderboard train the model\n",
        "# for 10 epochs on the whole dataset (135000 samples instead of 30000)\n",
        "\n",
        "N_EPOCHS = 15\n",
        "CLIP = 1\n",
        "\n",
        "train_history = []\n",
        "valid_history = []\n",
        "history = {}\n",
        "\n",
        "best_valid_loss = float('inf')\n",
        "\n",
        "for epoch in range(N_EPOCHS):\n",
        "    \n",
        "    start_time = time.time()\n",
        "    \n",
        "    train_loss = train(model, train_iterator, optimizer, criterion, CLIP, PAD_IDX, device, train_history, valid_history)\n",
        "    valid_loss = evaluate(model, valid_iterator, criterion, PAD_IDX, device)\n",
        "    \n",
        "    end_time = time.time()\n",
        "    \n",
        "    epoch_mins, epoch_secs = epoch_time(start_time, end_time)\n",
        "    \n",
        "    if valid_loss < best_valid_loss:\n",
        "        best_valid_loss = valid_loss\n",
        "        torch.save(model.state_dict(), MODEL_NAME)\n",
        "        \n",
        "    history[epoch] = [train_loss, valid_loss]\n",
        "    pd.DataFrame(history).to_csv('/content/drive/My Drive/BART_history.csv')\n",
        "\n",
        "    train_history.append(train_loss)\n",
        "    valid_history.append(valid_loss)\n",
        "  \n",
        "    print(f'Epoch: {epoch+1:02} | Time: {epoch_mins}m {epoch_secs}s')\n",
        "    print(f'\\tTrain Loss: {train_loss:.3f} | Train PPL: {math.exp(train_loss):7.3f}')\n",
        "    print(f'\\t Val. Loss: {valid_loss:.3f} |  Val. PPL: {math.exp(valid_loss):7.3f}')"
      ],
      "execution_count": 0,
      "outputs": [
        {
          "output_type": "display_data",
          "data": {
            "image/png": "[encoded data removed]",
            "text/plain": [
              "<Figure size 864x576 with 2 Axes>"
            ]
          },
          "metadata": {
            "tags": [],
            "needs_background": "dark"
          }
        }
      ]
    },
    {
      "cell_type": "code",
      "metadata": {
        "trusted": true,
        "id": "xn6srsGHaEe-",
        "colab_type": "code",
        "outputId": "814c7e24-208a-4ea4-ba2c-f6f88715442a",
        "colab": {
          "base_uri": "https://localhost:8080/",
          "height": 34
        }
      },
      "source": [
        "# for cpu usage  \n",
        "#model.load_state_dict(torch.load(MODEL_NAME, map_location=torch.device('cpu'))) \n",
        "    \n",
        "# for gpu usage   \n",
        "\n",
        "#model.load_state_dict(torch.load(MODEL_NAME)) # map_location=torch.device('cuda')\n",
        "\n",
        "test_loss = evaluate(model, test_iterator, criterion, PAD_IDX, device)\n",
        "\n",
        "print(f'| Test Loss: {test_loss:.3f} | Test PPL: {math.exp(test_loss):7.3f} |')"
      ],
      "execution_count": 26,
      "outputs": [
        {
          "output_type": "stream",
          "text": [
            "| Test Loss: 1.401 | Test PPL:   4.061 |\n"
          ],
          "name": "stdout"
        }
      ]
    },
    {
      "cell_type": "markdown",
      "metadata": {
        "id": "0Qs0s6P0aEfA",
        "colab_type": "text"
      },
      "source": [
        "## Title generation"
      ]
    },
    {
      "cell_type": "code",
      "metadata": {
        "trusted": true,
        "id": "GvjMgopPaEfF",
        "colab_type": "code",
        "outputId": "53863d6c-c0ec-4bb1-cb94-c739188355e9",
        "colab": {
          "base_uri": "https://localhost:8080/",
          "height": 71
        }
      },
      "source": [
        "example_idx = 8\n",
        "\n",
        "src = vars(train_data.examples[example_idx])['src']\n",
        "trg = vars(train_data.examples[example_idx])['trg']\n",
        "\n",
        "print(f'src = {src}')\n",
        "print(f'trg = {trg}')"
      ],
      "execution_count": 27,
      "outputs": [
        {
          "output_type": "stream",
          "text": [
            "src = ['pro', 'te', 'ins', 'Ġemploy', 'Ġthe', 'Ġinformation', 'Ġstored', 'Ġin', 'Ġthe', 'Ġgenetic', 'Ġcode', 'Ġand', 'Ġtranslated', 'Ġinto', 'Ġtheir', 'Ġsequences', 'Ġto', 'Ġcarry', 'Ġout', 'Ġwell', '-', 'defined', 'Ġfunctions', 'Ġin', 'Ġthe', 'Ġcellular', 'Ġenvironment', '.', 'Ġthe', 'Ġpossibility', 'Ġto', 'Ġencode', 'Ġfor', 'Ġsuch', 'Ġfunctions', 'Ġis', 'Ġcontrolled', 'Ġby', 'Ġthe', 'Ġbalance', 'Ġbetween', 'Ġthe', 'Ġamount', 'Ġof', 'Ġinformation', 'Ġsupplied', 'Ġby', 'Ġthe', 'Ġsequence', 'Ġand', 'Ġthat', 'Ġleft', 'Ġafter', 'Ġthat', 'Ġthe', 'Ġprotein', 'Ġhas', 'Ġfolded', 'Ġinto', 'Ġits', 'Ġstructure', '.', 'Ġwe', 'Ġdeveloped', 'Ġa', 'Ġcomputational', 'Ġalgorithm', 'Ġto', 'Ġevaluate', 'Ġthe', 'Ġamount', 'Ġof', 'Ġinformation', 'Ġnecessary', 'Ġto', 'Ġspecify', 'Ġthe', 'Ġprotein', 'Ġstructure', ',', 'Ġkeeping', 'Ġinto', 'Ġaccount', 'Ġthe', 'Ġtherm', 'odynamic', 'Ġproperties', 'Ġof', 'Ġprotein', 'Ġfolding', '.', 'Ġwe', 'Ġthus', 'Ġshow', 'Ġthat', 'Ġthe', 'Ġinformation', 'Ġremaining', 'Ġin', 'Ġthe', 'Ġprotein', 'Ġsequence', 'Ġafter', 'Ġencoding', 'Ġfor', 'Ġits', 'Ġstructure', 'Ġ(', 'the', \"Ġ'\", 'information', 'Ġgap', \"')\", 'Ġis', 'Ġvery', 'Ġclose', 'Ġto', 'Ġwhat', 'Ġneeded', 'Ġto', 'Ġencode', 'Ġfor', 'Ġits', 'Ġfunction', 'Ġand', 'Ġinteractions', '.', 'Ġthen', ',', 'Ġby', 'Ġpredicting', 'Ġthe', 'Ġinformation', 'Ġgap', 'Ġdirectly', 'Ġfrom', 'Ġthe', 'Ġprotein', 'Ġsequence', ',', 'Ġwe', 'Ġshow', 'Ġthat', 'Ġit', 'Ġmay', 'Ġbe', 'Ġpossible', 'Ġto', 'Ġuse', 'Ġthese', 'Ġinsights', 'Ġfrom', 'Ġinformation', 'Ġtheory', 'Ġto', 'Ġdiscriminate', 'Ġbetween', 'Ġordered', 'Ġand', 'Ġdis', 'ordered', 'Ġproteins', ',', 'Ġto', 'Ġidentify', 'Ġunknown', 'Ġfunctions', ',']\n",
            "trg = ['a', 'Ġmethod', 'Ġfor', 'Ġpartition', 'ing', 'Ġthe', 'Ġinformation', 'Ġcontained', 'Ġin', 'Ġa', 'Ġprotein', 'Ġsequence', 'Ġbetween', 'Ġits', 'Ġstructure', 'Ġand', 'Ġfunction']\n"
          ],
          "name": "stdout"
        }
      ]
    },
    {
      "cell_type": "code",
      "metadata": {
        "trusted": true,
        "id": "V0lpdLNHaEfH",
        "colab_type": "code",
        "outputId": "0b8af483-f34e-405e-daae-76e504d176c8",
        "colab": {
          "base_uri": "https://localhost:8080/",
          "height": 54
        }
      },
      "source": [
        "inputs =  torch.tensor([TEXT.vocab.stoi[token] for token in src]).unsqueeze(0).to(device)\n",
        "# Generate Summary\n",
        "summary_ids = model.generate(inputs, num_beams=10, bad_words_ids=[[32099]])\n",
        "print([tokenizer.decode(i_d, skip_special_tokens=True, clean_up_tokenization_spaces=False) for i_d in summary_ids])"
      ],
      "execution_count": 28,
      "outputs": [
        {
          "output_type": "stream",
          "text": [
            "['determining the information contained in a protein sequence from its information gap: an information-theoretic approach to the prediction of the information needed to encode and unfold the information for its structure, using the information gap between its sequence and its interaction with ordered and disordered proteins']\n"
          ],
          "name": "stdout"
        }
      ]
    },
    {
      "cell_type": "code",
      "metadata": {
        "trusted": true,
        "id": "uM3F9ME1aEfK",
        "colab_type": "code",
        "outputId": "9f7ea6b7-4da4-47a3-b2af-3c309f74229e",
        "colab": {
          "base_uri": "https://localhost:8080/",
          "height": 425
        }
      },
      "source": [
        "for example_idx in range(8):\n",
        "    src = vars(test_data.examples[example_idx])['src']\n",
        "    trg = vars(test_data.examples[example_idx])['trg']\n",
        "    trg = tokenizer.convert_tokens_to_string(trg)\n",
        "    inputs =  torch.tensor([TEXT.vocab.stoi[token] for token in src]).unsqueeze(0).to(device)\n",
        "    summary_ids = model.generate(inputs, num_beams=5, max_length=16, early_stopping=True)\n",
        "    translation = [tokenizer.decode(i_d, skip_special_tokens=True, clean_up_tokenization_spaces=False) for i_d in summary_ids]\n",
        "\n",
        "    print('Оригинальный заголовок: ', ''.join(trg))\n",
        "    print('Предсказанный заголовок: ', ' '.join(translation))\n",
        "    print('-----------------------------------')"
      ],
      "execution_count": 37,
      "outputs": [
        {
          "output_type": "stream",
          "text": [
            "Оригинальный заголовок:  diversity and its decomposition into variety, balance and disparity\n",
            "Предсказанный заголовок:  measuring diversity and its decomposition into variety, balance and disparity\n",
            "-----------------------------------\n",
            "Оригинальный заголовок:  improving the johnson-lindenstrauss lemma\n",
            "Предсказанный заголовок:  improving the johnson-lindenstrauss lemma\n",
            "-----------------------------------\n",
            "Оригинальный заголовок:  the mean-field approximation model of company's income growth\n",
            "Предсказанный заголовок:  mean-field approximation of income distribution in company's company's business\n",
            "-----------------------------------\n",
            "Оригинальный заголовок:  efficient inference of protein structural ensembles\n",
            "Предсказанный заголовок:  one-parameter models of protein ensembles with native state\n",
            "-----------------------------------\n",
            "Оригинальный заголовок:  financial black swans driven by ultrafast machine ecology\n",
            "Предсказанный заголовок:  ultrafast black swan events and their impact on stock-\n",
            "-----------------------------------\n",
            "Оригинальный заголовок:  tracking dynamic point processes on networks\n",
            "Предсказанный заголовок:  online dynamic point process modeling of events in complex social and financial networks\n",
            "-----------------------------------\n",
            "Оригинальный заголовок:  deeply virtual compton scattering off the neutron\n",
            "Предсказанный заголовок:  ly virtual compton scattering from the bethe-heitler process\n",
            "-----------------------------------\n",
            "Оригинальный заголовок:  optimal binary classifier aggregation for general losses\n",
            "Предсказанный заголовок:  optimally combining predictions with minimax optimal rates of convergence for general\n",
            "-----------------------------------\n"
          ],
          "name": "stdout"
        }
      ]
    },
    {
      "cell_type": "markdown",
      "metadata": {
        "id": "pR_0x1uYaEfV",
        "colab_type": "text"
      },
      "source": [
        "## BLEU score"
      ]
    },
    {
      "cell_type": "code",
      "metadata": {
        "trusted": true,
        "id": "aVLjdk0taEfV",
        "colab_type": "code",
        "colab": {}
      },
      "source": [
        "from torchtext.data.metrics import bleu_score\n",
        "\n",
        "def calculate_bleu(data, src_field, trg_field, model, device, max_len = 50):\n",
        "    \n",
        "    trgs = []\n",
        "    pred_trgs = []\n",
        "    \n",
        "    for datum in data:\n",
        "        \n",
        "        src = vars(datum)['src']\n",
        "        trg = vars(datum)['trg']\n",
        "        \n",
        "        pred_trg, _ = translate_sentence(src, src_field, trg_field, model, device, max_len)\n",
        "        \n",
        "        #cut off <eos> token\n",
        "        pred_trg = pred_trg[:-1]\n",
        "        \n",
        "        pred_trgs.append(pred_trg)\n",
        "        trgs.append([trg])\n",
        "        \n",
        "    return bleu_score(pred_trgs, trgs)"
      ],
      "execution_count": 0,
      "outputs": []
    },
    {
      "cell_type": "code",
      "metadata": {
        "trusted": true,
        "id": "s8o_3MOdaEfX",
        "colab_type": "code",
        "colab": {}
      },
      "source": [
        "bleu_score = calculate_bleu(test_data, , TEXT, model, device)\n",
        "\n",
        "print(f'BLEU score = {bleu_score*100:.2f}')"
      ],
      "execution_count": 0,
      "outputs": []
    },
    {
      "cell_type": "markdown",
      "metadata": {
        "id": "rbnfTyIkaEfa",
        "colab_type": "text"
      },
      "source": [
        "## Kaggle submition"
      ]
    },
    {
      "cell_type": "code",
      "metadata": {
        "trusted": true,
        "id": "eqMnBDKUaEfb",
        "colab_type": "code",
        "colab": {}
      },
      "source": [
        "#test_tokenized_abstract = [tokenize(title) for title in submission_data['abstract']]\n",
        "#test_abstract_lens = [len(test_tokenized_abstract[i]) for i in range(len(test_tokenized_abstract))]"
      ],
      "execution_count": 0,
      "outputs": []
    },
    {
      "cell_type": "code",
      "metadata": {
        "trusted": true,
        "id": "_YUCiUbxaEfc",
        "colab_type": "code",
        "colab": {}
      },
      "source": [
        "import pandas as pd\n",
        "import string\n",
        "\n",
        "submission_data = pd.read_csv('/content/drive/My Drive/test.csv')\n",
        "\n",
        "pattern = r'\\S+'\n",
        "\n",
        "splited_test = [re.findall(pattern, abstract) for abstract in submission_data['abstract']]\n",
        "splited_test = [[token for token in splited_test[i] if len(token)<=22] for i in range(len(splited_test))]\n",
        "\n",
        "#filtred_test = pd.DataFrame({'abstract' : [' '.join(splited_test[i]) for i in range(len(splited_test))]})\n",
        "\n",
        "#pattern = r\"\\w+-\\w+-\\w+|\\w+-\\w+|\\w+'\\w+|\\w+\"\n",
        "\n",
        "#splited_test = [re.findall(pattern, abstract) for abstract in filtred_test['abstract']]\n",
        "\n",
        "test_df = pd.DataFrame({'abstract': [' '.join(splited_test[i][0:200]) for i in range(len(splited_test))]})\n",
        "\n",
        "abstracts = test_df['abstract'].values"
      ],
      "execution_count": 0,
      "outputs": []
    },
    {
      "cell_type": "code",
      "metadata": {
        "trusted": true,
        "id": "p_d0-UdOaEfd",
        "colab_type": "code",
        "outputId": "6dbf9570-c34b-4feb-bc6a-b73e59b19c89",
        "colab": {
          "base_uri": "https://localhost:8080/",
          "height": 34
        }
      },
      "source": [
        "from IPython.display import clear_output\n",
        "\n",
        "titles = []\n",
        "for number , abstract in enumerate(abstracts):\n",
        "    abstract = tokenizer.tokenize(abstract)\n",
        "    abstract = torch.tensor([TEXT.vocab.stoi[token] for token in abstract if token in TEXT.vocab.itos]).unsqueeze(0).to(device)\n",
        "    title = model.generate(abstract, num_beams=1, min_length=2, max_length=20) \n",
        "    titles.append([tokenizer.decode(i_d, skip_special_tokens=True, clean_up_tokenization_spaces=False) for i_d in title][0])\n",
        "    print(f'titles generaited: {number+1}')\n",
        "    clear_output(wait=True)"
      ],
      "execution_count": 44,
      "outputs": [
        {
          "output_type": "stream",
          "text": [
            "titles generaited: 1000\n"
          ],
          "name": "stdout"
        }
      ]
    },
    {
      "cell_type": "markdown",
      "metadata": {
        "id": "IEHKSLU6aEff",
        "colab_type": "text"
      },
      "source": [
        "Записываем полученные заголовки в файл формата `<abstract>,<title>`:"
      ]
    },
    {
      "cell_type": "code",
      "metadata": {
        "trusted": true,
        "id": "ppy-FPEIaEff",
        "colab_type": "code",
        "colab": {}
      },
      "source": [
        "submission_df = pd.DataFrame({'abstract': abstracts, 'title': titles})\n",
        "submission_df.to_csv('predicted_titles.csv', index=False)"
      ],
      "execution_count": 0,
      "outputs": []
    },
    {
      "cell_type": "markdown",
      "metadata": {
        "id": "kFp9n1NuaEfh",
        "colab_type": "text"
      },
      "source": [
        "С помощью функции `generate_csv` приводим файл `submission_prediction.csv` в формат, необходимый для посылки в соревнование на Kaggle:"
      ]
    },
    {
      "cell_type": "code",
      "metadata": {
        "trusted": true,
        "id": "TCKcRKe9aEfh",
        "colab_type": "code",
        "colab": {
          "base_uri": "https://localhost:8080/",
          "height": 85
        },
        "outputId": "5533ef14-adba-475d-f3e2-4fa45ff2fda4"
      },
      "source": [
        "import string\n",
        "from nltk.util import ngrams\n",
        "import numpy as np\n",
        "import pandas as pd\n",
        "import pickle\n",
        "\n",
        "\n",
        "def generate_csv(input_file='predicted_titles.csv',\n",
        "                 output_file='submission.csv',\n",
        "                 voc_file='/content/drive/My Drive/vocs.pkl'):\n",
        "    '''\n",
        "    Generates file in format required for submitting result to Kaggle\n",
        "    \n",
        "    Parameters:\n",
        "        input_file (str) : path to csv file with your predicted titles.\n",
        "                           Should have two fields: abstract and title\n",
        "        output_file (str) : path to output submission file\n",
        "        voc_file (str) : path to voc.pkl file\n",
        "    '''\n",
        "    data = pd.read_csv(input_file)\n",
        "    with open(voc_file, 'rb') as voc_file:\n",
        "        vocs = pickle.load(voc_file)\n",
        "\n",
        "    with open(output_file, 'w') as res_file:\n",
        "        res_file.write('Id,Predict\\n')\n",
        "        \n",
        "    output_idx = 0\n",
        "    for row_idx, row in data.iterrows():\n",
        "        trg = row['title']\n",
        "        trg = trg.translate(str.maketrans('', '', string.punctuation)).lower().split()\n",
        "        try:\n",
        "            trg.extend(['_'.join(ngram) for ngram in list(ngrams(trg, 2)) + list(ngrams(trg, 3))])\n",
        "        except:\n",
        "            continue\n",
        "        VOCAB_stoi = vocs[row_idx]\n",
        "        trg_intersection = set(VOCAB_stoi.keys()).intersection(set(trg))\n",
        "        trg_vec = np.zeros(len(VOCAB_stoi))    \n",
        "\n",
        "        for word in trg_intersection:\n",
        "            trg_vec[VOCAB_stoi[word]] = 1\n",
        "\n",
        "        with open(output_file, 'a') as res_file:\n",
        "            for is_word in trg_vec:\n",
        "                res_file.write('{0},{1}\\n'.format(output_idx, int(is_word)))\n",
        "                output_idx += 1\n",
        "\n",
        "\n",
        "generate_csv()"
      ],
      "execution_count": 46,
      "outputs": [
        {
          "output_type": "stream",
          "text": [
            "/usr/local/lib/python3.6/dist-packages/ipykernel_launcher.py:32: DeprecationWarning:\n",
            "\n",
            "generator 'ngrams' raised StopIteration\n",
            "\n"
          ],
          "name": "stderr"
        }
      ]
    }
  ]
}